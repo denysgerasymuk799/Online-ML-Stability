{
 "cells": [
  {
   "cell_type": "markdown",
   "metadata": {
    "pycharm": {
     "name": "#%% md\n"
    }
   },
   "source": [
    "# Binary classification"
   ]
  },
  {
   "cell_type": "markdown",
   "metadata": {
    "pycharm": {
     "name": "#%% md\n"
    }
   },
   "source": [
    "Classification is about predicting an outcome from a fixed list of classes. The prediction is a probability distribution that assigns a probability to each possible outcome.\n",
    "\n",
    "A labeled classification sample is made up of a bunch of features and a class. The class is a boolean in the case of binary classification. We'll use the phishing dataset as an example."
   ]
  },
  {
   "cell_type": "code",
   "execution_count": 28,
   "outputs": [
    {
     "name": "stdout",
     "output_type": "stream",
     "text": [
      "The autoreload extension is already loaded. To reload it, use:\n",
      "  %reload_ext autoreload\n"
     ]
    }
   ],
   "source": [
    "%matplotlib inline\n",
    "%load_ext autoreload\n",
    "%autoreload 2"
   ],
   "metadata": {
    "collapsed": false,
    "pycharm": {
     "name": "#%%\n"
    }
   }
  },
  {
   "cell_type": "code",
   "execution_count": 29,
   "outputs": [],
   "source": [
    "import collections\n",
    "from river import datasets\n",
    "\n",
    "from source.utils.river_utils import evaluate_binary_model"
   ],
   "metadata": {
    "collapsed": false,
    "pycharm": {
     "name": "#%%\n"
    }
   }
  },
  {
   "cell_type": "code",
   "execution_count": 30,
   "metadata": {
    "pycharm": {
     "name": "#%%\n"
    }
   },
   "outputs": [
    {
     "data": {
      "text/plain": "Phishing websites.\n\nThis dataset contains features from web pages that are classified as phishing or not.\n\n    Name  Phishing                                                                                                                                              \n    Task  Binary classification                                                                                                                                 \n Samples  1,250                                                                                                                                                 \nFeatures  9                                                                                                                                                     \n  Sparse  False                                                                                                                                                 \n    Path  /home/denys_herasymuk/UCU/Studying_abroad/NYU_Internship/Code/RAI-summer-stability/RAI_venv/lib/python3.8/site-packages/river/datasets/phishing.csv.gz"
     },
     "execution_count": 30,
     "metadata": {},
     "output_type": "execute_result"
    }
   ],
   "source": [
    "dataset = datasets.Phishing()\n",
    "dataset"
   ]
  },
  {
   "cell_type": "markdown",
   "metadata": {
    "pycharm": {
     "name": "#%% md\n"
    }
   },
   "source": [
    "Let's take a look at the first sample."
   ]
  },
  {
   "cell_type": "code",
   "execution_count": 31,
   "metadata": {
    "tags": [],
    "pycharm": {
     "name": "#%%\n"
    }
   },
   "outputs": [
    {
     "data": {
      "text/plain": "{'empty_server_form_handler': 0.0,\n 'popup_window': 0.0,\n 'https': 0.0,\n 'request_from_other_domain': 0.0,\n 'anchor_from_other_domain': 0.0,\n 'is_popular': 0.5,\n 'long_url': 1.0,\n 'age_of_domain': 1,\n 'ip_in_url': 1}"
     },
     "execution_count": 31,
     "metadata": {},
     "output_type": "execute_result"
    }
   ],
   "source": [
    "x, y = next(iter(dataset))\n",
    "x"
   ]
  },
  {
   "cell_type": "code",
   "execution_count": 32,
   "metadata": {
    "pycharm": {
     "name": "#%%\n"
    }
   },
   "outputs": [
    {
     "data": {
      "text/plain": "True"
     },
     "execution_count": 32,
     "metadata": {},
     "output_type": "execute_result"
    }
   ],
   "source": [
    "y"
   ]
  },
  {
   "cell_type": "code",
   "execution_count": 33,
   "outputs": [
    {
     "name": "stdout",
     "output_type": "stream",
     "text": [
      "True: 548 (43.84000%)\n",
      "False: 702 (56.16000%)\n"
     ]
    }
   ],
   "source": [
    "counts = collections.Counter(y for _, y in dataset)\n",
    "\n",
    "for c, count in counts.items():\n",
    "    print(f'{c}: {count} ({count / sum(counts.values()):.5%})')"
   ],
   "metadata": {
    "collapsed": false,
    "pycharm": {
     "name": "#%%\n"
    }
   }
  },
  {
   "cell_type": "markdown",
   "metadata": {
    "pycharm": {
     "name": "#%% md\n"
    }
   },
   "source": [
    "A common way to improve the performance of a logistic regression is to scale the data. This can be done by using a `preprocessing.StandardScaler`. In particular, we can define a pipeline to organise our model into a sequence of steps:"
   ]
  },
  {
   "cell_type": "code",
   "execution_count": 34,
   "metadata": {
    "tags": [],
    "pycharm": {
     "name": "#%%\n"
    }
   },
   "outputs": [
    {
     "data": {
      "text/plain": "Pipeline (\n  StandardScaler (\n    with_std=True\n  ),\n  LogisticRegression (\n    optimizer=SGD (\n      lr=Constant (\n        learning_rate=0.01\n      )\n    )\n    loss=Log (\n      weight_pos=1.\n      weight_neg=1.\n    )\n    l2=0.\n    l1=0.\n    intercept_init=0.\n    intercept_lr=Constant (\n      learning_rate=0.01\n    )\n    clip_gradient=1e+12\n    initializer=Zeros ()\n  )\n)",
      "text/html": "<div><div class=\"river-component river-pipeline\"><details class=\"river-component river-estimator\"><summary class=\"river-summary\"><pre class=\"river-estimator-name\">StandardScaler</pre></summary><code class=\"river-estimator-params\">(\n  with_std=True\n)\n\n</code></details><details class=\"river-component river-estimator\"><summary class=\"river-summary\"><pre class=\"river-estimator-name\">LogisticRegression</pre></summary><code class=\"river-estimator-params\">(\n  optimizer=SGD (\n    lr=Constant (\n      learning_rate=0.01\n    )\n  )\n  loss=Log (\n    weight_pos=1.\n    weight_neg=1.\n  )\n  l2=0.\n  l1=0.\n  intercept_init=0.\n  intercept_lr=Constant (\n    learning_rate=0.01\n  )\n  clip_gradient=1e+12\n  initializer=Zeros ()\n)\n\n</code></details></div><style scoped>\n.river-estimator {\n    padding: 1em;\n    border-style: solid;\n    background: white;\n}\n\n.river-pipeline {\n    display: flex;\n    flex-direction: column;\n    align-items: center;\n    background: linear-gradient(#000, #000) no-repeat center / 3px 100%;\n}\n\n.river-union {\n    display: flex;\n    flex-direction: row;\n    align-items: center;\n    justify-content: center;\n    padding: 1em;\n    border-style: solid;\n    background: white;\n}\n\n.river-wrapper {\n    display: flex;\n    flex-direction: column;\n    align-items: center;\n    justify-content: center;\n    padding: 1em;\n    border-style: solid;\n    background: white;\n}\n\n.river-wrapper > .river-estimator {\n    margin-top: 1em;\n}\n\n/* Vertical spacing between steps */\n\n.river-component + .river-component {\n    margin-top: 2em;\n}\n\n.river-union > .river-estimator {\n    margin-top: 0;\n}\n\n.river-union > .pipeline {\n    margin-top: 0;\n}\n\n/* Spacing within a union of estimators */\n\n.river-union > .river-component + .river-component {\n    margin-left: 1em;\n}\n\n/* Typography */\n\n.river-estimator-params {\n    display: block;\n    white-space: pre-wrap;\n    font-size: 120%;\n    margin-bottom: -1em;\n}\n\n.river-estimator > .river-estimator-params,\n.river-wrapper > .river-details > river-estimator-params {\n    background-color: white !important;\n}\n\n.river-estimator-name {\n    display: inline;\n    margin: 0;\n    font-size: 130%;\n}\n\n/* Toggle */\n\n.river-summary {\n    display: flex;\n    align-items:center;\n    cursor: pointer;\n}\n\n.river-summary > div {\n    width: 100%;\n}\n</style></div>"
     },
     "execution_count": 34,
     "metadata": {},
     "output_type": "execute_result"
    }
   ],
   "source": [
    "from river import compose\n",
    "from river import metrics\n",
    "from river import evaluate\n",
    "from river import preprocessing\n",
    "from river import linear_model\n",
    "\n",
    "model = compose.Pipeline(\n",
    "    preprocessing.StandardScaler(),\n",
    "    linear_model.LogisticRegression()\n",
    ")\n",
    "\n",
    "model"
   ]
  },
  {
   "cell_type": "code",
   "execution_count": 35,
   "outputs": [
    {
     "name": "stdout",
     "output_type": "stream",
     "text": [
      "Index: 50; Accuracy: 78.00%; WeightedF1: 78.03%\n",
      "Index: 100; Accuracy: 83.00%; WeightedF1: 82.99%\n",
      "Index: 150; Accuracy: 82.67%; WeightedF1: 82.67%\n",
      "Index: 200; Accuracy: 83.50%; WeightedF1: 83.50%\n",
      "Index: 250; Accuracy: 83.60%; WeightedF1: 83.60%\n",
      "Index: 300; Accuracy: 84.33%; WeightedF1: 84.37%\n",
      "Index: 350; Accuracy: 85.71%; WeightedF1: 85.76%\n",
      "Index: 400; Accuracy: 86.00%; WeightedF1: 86.04%\n",
      "Index: 450; Accuracy: 86.67%; WeightedF1: 86.72%\n",
      "Index: 500; Accuracy: 86.60%; WeightedF1: 86.63%\n",
      "Index: 550; Accuracy: 86.91%; WeightedF1: 86.94%\n",
      "Index: 600; Accuracy: 87.33%; WeightedF1: 87.38%\n",
      "Index: 650; Accuracy: 87.54%; WeightedF1: 87.60%\n",
      "Index: 700; Accuracy: 88.14%; WeightedF1: 88.19%\n",
      "Index: 750; Accuracy: 88.27%; WeightedF1: 88.31%\n",
      "Index: 800; Accuracy: 88.38%; WeightedF1: 88.41%\n",
      "Index: 850; Accuracy: 88.47%; WeightedF1: 88.50%\n",
      "Index: 900; Accuracy: 88.67%; WeightedF1: 88.70%\n",
      "Index: 950; Accuracy: 88.84%; WeightedF1: 88.87%\n",
      "Index: 1000; Accuracy: 89.00%; WeightedF1: 89.03%\n",
      "Index: 1050; Accuracy: 89.14%; WeightedF1: 89.16%\n",
      "Index: 1100; Accuracy: 89.18%; WeightedF1: 89.20%\n",
      "Index: 1150; Accuracy: 89.30%; WeightedF1: 89.32%\n",
      "Index: 1200; Accuracy: 89.25%; WeightedF1: 89.27%\n",
      "Index: 1250; Accuracy: 89.20%; WeightedF1: 89.22%\n",
      "\n",
      "\n",
      "\n",
      "Debug pipeline:\n",
      "0. Input\n",
      "--------\n",
      "age_of_domain: 0 (int)\n",
      "anchor_from_other_domain: 1.00000 (float)\n",
      "empty_server_form_handler: 1.00000 (float)\n",
      "https: 1.00000 (float)\n",
      "ip_in_url: 0 (int)\n",
      "is_popular: 0.50000 (float)\n",
      "long_url: 0.00000 (float)\n",
      "popup_window: 0.50000 (float)\n",
      "request_from_other_domain: 1.00000 (float)\n",
      "\n",
      "1. StandardScaler\n",
      "-----------------\n",
      "age_of_domain: -1.22474 (float)\n",
      "anchor_from_other_domain: 1.06808 (float)\n",
      "empty_server_form_handler: 0.81186 (float)\n",
      "https: 0.82624 (float)\n",
      "ip_in_url: -0.35799 (float)\n",
      "is_popular: -0.01803 (float)\n",
      "long_url: -1.21853 (float)\n",
      "popup_window: 0.37535 (float)\n",
      "request_from_other_domain: 1.45893 (float)\n",
      "\n",
      "2. LogisticRegression\n",
      "---------------------\n",
      "\n",
      "False: 0.91907\n",
      "True: 0.08093\n",
      "\n",
      "\n",
      "Confusion matrix:\n",
      "         False   True  \n",
      "False     625     77  \n",
      " True      58    490  \n",
      "\n",
      "Confusion matrix dict:\n",
      " {True: {False: 58.0, True: 490.0}, False: {True: 77.0, False: 625.0}}\n"
     ]
    },
    {
     "data": {
      "text/plain": "<Figure size 720x432 with 1 Axes>",
      "image/png": "[encoded data removed]"
     },
     "metadata": {},
     "output_type": "display_data"
    },
    {
     "data": {
      "text/plain": "<Figure size 720x432 with 1 Axes>",
      "image/png": "[encoded data removed]"
     },
     "metadata": {},
     "output_type": "display_data"
    },
    {
     "data": {
      "text/plain": "<Figure size 720x576 with 2 Axes>",
      "image/png": "[encoded data removed]"
     },
     "metadata": {},
     "output_type": "display_data"
    }
   ],
   "source": [
    "evaluate_binary_model(dataset, model, measure_every=50)"
   ],
   "metadata": {
    "collapsed": false,
    "pycharm": {
     "name": "#%%\n"
    }
   }
  },
  {
   "cell_type": "code",
   "execution_count": null,
   "outputs": [],
   "source": [],
   "metadata": {
    "collapsed": false,
    "pycharm": {
     "name": "#%%\n"
    }
   }
  }
 ],
 "metadata": {
  "kernelspec": {
   "display_name": "Python 3.9.12 ('river')",
   "language": "python",
   "name": "python3"
  },
  "language_info": {
   "codemirror_mode": {
    "name": "ipython",
    "version": 3
   },
   "file_extension": ".py",
   "mimetype": "text/x-python",
   "name": "python",
   "nbconvert_exporter": "python",
   "pygments_lexer": "ipython3",
   "version": "3.9.12"
  },
  "vscode": {
   "interpreter": {
    "hash": "e6e87bad9c8c768904c061eafcb4f6739260ff8bb57f302c215ab258ded773dc"
   }
  }
 },
 "nbformat": 4,
 "nbformat_minor": 4
}