{
 "cells": [
  {
   "cell_type": "code",
   "execution_count": 1,
   "outputs": [],
   "source": [
    "%matplotlib inline\n",
    "%load_ext autoreload\n",
    "%autoreload 2"
   ],
   "metadata": {
    "collapsed": false,
    "pycharm": {
     "name": "#%%\n"
    }
   }
  },
  {
   "cell_type": "code",
   "execution_count": 2,
   "outputs": [],
   "source": [
    "import os\n",
    "import warnings\n",
    "import pandas as pd\n",
    "import seaborn as sns\n",
    "\n",
    "from source.folktables.data_loader import load_folktables_data"
   ],
   "metadata": {
    "collapsed": false,
    "pycharm": {
     "name": "#%%\n"
    }
   }
  },
  {
   "cell_type": "code",
   "execution_count": 3,
   "outputs": [],
   "source": [
    "warnings.filterwarnings('ignore')\n",
    "os.environ[\"PYTHONWARNINGS\"] = \"ignore\"\n",
    "\n",
    "sns.set(rc={'figure.figsize':(15, 5)})"
   ],
   "metadata": {
    "collapsed": false,
    "pycharm": {
     "name": "#%%\n"
    }
   }
  },
  {
   "cell_type": "code",
   "execution_count": 4,
   "outputs": [],
   "source": [
    "try:\n",
    "    from folktables import ACSDataSource, ACSEmployment\n",
    "except:\n",
    "    !pip install folktables\n",
    "    from folktables import ACSDataSource, ACSEmployment"
   ],
   "metadata": {
    "collapsed": false,
    "pycharm": {
     "name": "#%%\n"
    }
   }
  },
  {
   "cell_type": "code",
   "execution_count": 5,
   "outputs": [],
   "source": [
    "DATASET_CONFIG = {\n",
    "    'state': [\"LA\"],\n",
    "    'year': '2018',\n",
    "    'task': ACSEmployment\n",
    "}"
   ],
   "metadata": {
    "collapsed": false,
    "pycharm": {
     "name": "#%%\n"
    }
   }
  },
  {
   "cell_type": "code",
   "execution_count": 6,
   "outputs": [
    {
     "name": "stdout",
     "output_type": "stream",
     "text": [
      "Downloading data for 2018 1-Year person survey for LA...\n",
      "Original: 5 mb\n",
      "Optimized: 2 mb\n",
      "\n",
      "Dataset shape before handling nulls:  (43589, 16)\n",
      "Impute values:  {'SCHL': 0, 'ESP': 0, 'MIG': 0, 'MIL': 0, 'DREM': 0}\n",
      "Dataset shape after handling nulls:  (43589, 16)\n",
      "\n",
      "Rechecking if there are nulls in X_data:\n",
      "AGEP        0\n",
      "SCHL        0\n",
      "MAR         0\n",
      "RELP        0\n",
      "DIS         0\n",
      "ESP         0\n",
      "CIT         0\n",
      "MIG         0\n",
      "MIL         0\n",
      "ANC         0\n",
      "NATIVITY    0\n",
      "DEAR        0\n",
      "DEYE        0\n",
      "DREM        0\n",
      "SEX         0\n",
      "RAC1P       0\n",
      "dtype: int64\n"
     ]
    }
   ],
   "source": [
    "X_data, y_data = load_folktables_data(task=DATASET_CONFIG['task'], state=DATASET_CONFIG['state'], year=DATASET_CONFIG['year'], without_nulls=True)"
   ],
   "metadata": {
    "collapsed": false,
    "pycharm": {
     "name": "#%%\n"
    }
   }
  },
  {
   "cell_type": "code",
   "execution_count": 7,
   "outputs": [
    {
     "data": {
      "text/plain": "0    25363\n1    18226\nName: ESR, dtype: int64"
     },
     "execution_count": 7,
     "metadata": {},
     "output_type": "execute_result"
    }
   ],
   "source": [
    "y_data.value_counts()"
   ],
   "metadata": {
    "collapsed": false,
    "pycharm": {
     "name": "#%%\n"
    }
   }
  },
  {
   "cell_type": "code",
   "execution_count": 8,
   "outputs": [
    {
     "data": {
      "text/plain": "   AGEP  SCHL  MAR  RELP  DIS  ESP  CIT  MIG  MIL  ANC  NATIVITY  DEAR  DEYE  \\\n0    29  18.0    5    16    2  0.0    1  1.0  4.0    2         1     2     2   \n1    17  13.0    5    16    2  0.0    1  1.0  4.0    1         1     2     2   \n2    37  13.0    5    16    2  0.0    1  1.0  4.0    1         1     2     2   \n3    86  12.0    2    16    1  0.0    1  1.0  4.0    1         1     2     1   \n4    22  19.0    5    17    2  0.0    1  1.0  4.0    1         1     2     2   \n\n   DREM  SEX  RAC1P  \n0   2.0    1      1  \n1   2.0    1      2  \n2   2.0    1      1  \n3   2.0    2      2  \n4   2.0    2      1  ",
      "text/html": "<div>\n<style scoped>\n    .dataframe tbody tr th:only-of-type {\n        vertical-align: middle;\n    }\n\n    .dataframe tbody tr th {\n        vertical-align: top;\n    }\n\n    .dataframe thead th {\n        text-align: right;\n    }\n</style>\n<table border=\"1\" class=\"dataframe\">\n  <thead>\n    <tr style=\"text-align: right;\">\n      <th></th>\n      <th>AGEP</th>\n      <th>SCHL</th>\n      <th>MAR</th>\n      <th>RELP</th>\n      <th>DIS</th>\n      <th>ESP</th>\n      <th>CIT</th>\n      <th>MIG</th>\n      <th>MIL</th>\n      <th>ANC</th>\n      <th>NATIVITY</th>\n      <th>DEAR</th>\n      <th>DEYE</th>\n      <th>DREM</th>\n      <th>SEX</th>\n      <th>RAC1P</th>\n    </tr>\n  </thead>\n  <tbody>\n    <tr>\n      <th>0</th>\n      <td>29</td>\n      <td>18.0</td>\n      <td>5</td>\n      <td>16</td>\n      <td>2</td>\n      <td>0.0</td>\n      <td>1</td>\n      <td>1.0</td>\n      <td>4.0</td>\n      <td>2</td>\n      <td>1</td>\n      <td>2</td>\n      <td>2</td>\n      <td>2.0</td>\n      <td>1</td>\n      <td>1</td>\n    </tr>\n    <tr>\n      <th>1</th>\n      <td>17</td>\n      <td>13.0</td>\n      <td>5</td>\n      <td>16</td>\n      <td>2</td>\n      <td>0.0</td>\n      <td>1</td>\n      <td>1.0</td>\n      <td>4.0</td>\n      <td>1</td>\n      <td>1</td>\n      <td>2</td>\n      <td>2</td>\n      <td>2.0</td>\n      <td>1</td>\n      <td>2</td>\n    </tr>\n    <tr>\n      <th>2</th>\n      <td>37</td>\n      <td>13.0</td>\n      <td>5</td>\n      <td>16</td>\n      <td>2</td>\n      <td>0.0</td>\n      <td>1</td>\n      <td>1.0</td>\n      <td>4.0</td>\n      <td>1</td>\n      <td>1</td>\n      <td>2</td>\n      <td>2</td>\n      <td>2.0</td>\n      <td>1</td>\n      <td>1</td>\n    </tr>\n    <tr>\n      <th>3</th>\n      <td>86</td>\n      <td>12.0</td>\n      <td>2</td>\n      <td>16</td>\n      <td>1</td>\n      <td>0.0</td>\n      <td>1</td>\n      <td>1.0</td>\n      <td>4.0</td>\n      <td>1</td>\n      <td>1</td>\n      <td>2</td>\n      <td>1</td>\n      <td>2.0</td>\n      <td>2</td>\n      <td>2</td>\n    </tr>\n    <tr>\n      <th>4</th>\n      <td>22</td>\n      <td>19.0</td>\n      <td>5</td>\n      <td>17</td>\n      <td>2</td>\n      <td>0.0</td>\n      <td>1</td>\n      <td>1.0</td>\n      <td>4.0</td>\n      <td>1</td>\n      <td>1</td>\n      <td>2</td>\n      <td>2</td>\n      <td>2.0</td>\n      <td>2</td>\n      <td>1</td>\n    </tr>\n  </tbody>\n</table>\n</div>"
     },
     "execution_count": 8,
     "metadata": {},
     "output_type": "execute_result"
    }
   ],
   "source": [
    "X_data.head()"
   ],
   "metadata": {
    "collapsed": false,
    "pycharm": {
     "name": "#%%\n"
    }
   }
  },
  {
   "cell_type": "code",
   "execution_count": 9,
   "outputs": [
    {
     "data": {
      "text/plain": "0    0\n1    0\n2    0\n3    0\n4    0\nName: ESR, dtype: int64"
     },
     "execution_count": 9,
     "metadata": {},
     "output_type": "execute_result"
    }
   ],
   "source": [
    "y_data.head()"
   ],
   "metadata": {
    "collapsed": false,
    "pycharm": {
     "name": "#%%\n"
    }
   }
  },
  {
   "cell_type": "code",
   "execution_count": 10,
   "outputs": [],
   "source": [
    "full_df = pd.concat([X_data, y_data], axis=1)"
   ],
   "metadata": {
    "collapsed": false,
    "pycharm": {
     "name": "#%%\n"
    }
   }
  },
  {
   "cell_type": "code",
   "execution_count": 11,
   "outputs": [
    {
     "data": {
      "text/plain": "   AGEP  SCHL  MAR  RELP  DIS  ESP  CIT  MIG  MIL  ANC  NATIVITY  DEAR  DEYE  \\\n0    29    18    5    16    2    0    1    1    4    2         1     2     2   \n1    17    13    5    16    2    0    1    1    4    1         1     2     2   \n2    37    13    5    16    2    0    1    1    4    1         1     2     2   \n3    86    12    2    16    1    0    1    1    4    1         1     2     1   \n4    22    19    5    17    2    0    1    1    4    1         1     2     2   \n\n   DREM  SEX  RAC1P  ESR  \n0     2    1      1    0  \n1     2    1      2    0  \n2     2    1      1    0  \n3     2    2      2    0  \n4     2    2      1    0  ",
      "text/html": "<div>\n<style scoped>\n    .dataframe tbody tr th:only-of-type {\n        vertical-align: middle;\n    }\n\n    .dataframe tbody tr th {\n        vertical-align: top;\n    }\n\n    .dataframe thead th {\n        text-align: right;\n    }\n</style>\n<table border=\"1\" class=\"dataframe\">\n  <thead>\n    <tr style=\"text-align: right;\">\n      <th></th>\n      <th>AGEP</th>\n      <th>SCHL</th>\n      <th>MAR</th>\n      <th>RELP</th>\n      <th>DIS</th>\n      <th>ESP</th>\n      <th>CIT</th>\n      <th>MIG</th>\n      <th>MIL</th>\n      <th>ANC</th>\n      <th>NATIVITY</th>\n      <th>DEAR</th>\n      <th>DEYE</th>\n      <th>DREM</th>\n      <th>SEX</th>\n      <th>RAC1P</th>\n      <th>ESR</th>\n    </tr>\n  </thead>\n  <tbody>\n    <tr>\n      <th>0</th>\n      <td>29</td>\n      <td>18</td>\n      <td>5</td>\n      <td>16</td>\n      <td>2</td>\n      <td>0</td>\n      <td>1</td>\n      <td>1</td>\n      <td>4</td>\n      <td>2</td>\n      <td>1</td>\n      <td>2</td>\n      <td>2</td>\n      <td>2</td>\n      <td>1</td>\n      <td>1</td>\n      <td>0</td>\n    </tr>\n    <tr>\n      <th>1</th>\n      <td>17</td>\n      <td>13</td>\n      <td>5</td>\n      <td>16</td>\n      <td>2</td>\n      <td>0</td>\n      <td>1</td>\n      <td>1</td>\n      <td>4</td>\n      <td>1</td>\n      <td>1</td>\n      <td>2</td>\n      <td>2</td>\n      <td>2</td>\n      <td>1</td>\n      <td>2</td>\n      <td>0</td>\n    </tr>\n    <tr>\n      <th>2</th>\n      <td>37</td>\n      <td>13</td>\n      <td>5</td>\n      <td>16</td>\n      <td>2</td>\n      <td>0</td>\n      <td>1</td>\n      <td>1</td>\n      <td>4</td>\n      <td>1</td>\n      <td>1</td>\n      <td>2</td>\n      <td>2</td>\n      <td>2</td>\n      <td>1</td>\n      <td>1</td>\n      <td>0</td>\n    </tr>\n    <tr>\n      <th>3</th>\n      <td>86</td>\n      <td>12</td>\n      <td>2</td>\n      <td>16</td>\n      <td>1</td>\n      <td>0</td>\n      <td>1</td>\n      <td>1</td>\n      <td>4</td>\n      <td>1</td>\n      <td>1</td>\n      <td>2</td>\n      <td>1</td>\n      <td>2</td>\n      <td>2</td>\n      <td>2</td>\n      <td>0</td>\n    </tr>\n    <tr>\n      <th>4</th>\n      <td>22</td>\n      <td>19</td>\n      <td>5</td>\n      <td>17</td>\n      <td>2</td>\n      <td>0</td>\n      <td>1</td>\n      <td>1</td>\n      <td>4</td>\n      <td>1</td>\n      <td>1</td>\n      <td>2</td>\n      <td>2</td>\n      <td>2</td>\n      <td>2</td>\n      <td>1</td>\n      <td>0</td>\n    </tr>\n  </tbody>\n</table>\n</div>"
     },
     "execution_count": 11,
     "metadata": {},
     "output_type": "execute_result"
    }
   ],
   "source": [
    "columns_to_cast = ['SCHL', 'ESP', 'MIG', 'MIL', 'DREM']\n",
    "for column in columns_to_cast:\n",
    "    full_df[column] = full_df[column].astype('int')\n",
    "\n",
    "full_df.head()"
   ],
   "metadata": {
    "collapsed": false,
    "pycharm": {
     "name": "#%%\n"
    }
   }
  },
  {
   "cell_type": "code",
   "execution_count": 12,
   "outputs": [
    {
     "data": {
      "text/plain": "1    29442\n2    11583\n9     1002\n6      765\n8      512\n3      224\n5       48\n7       12\n4        1\nName: RAC1P, dtype: int64"
     },
     "execution_count": 12,
     "metadata": {},
     "output_type": "execute_result"
    }
   ],
   "source": [
    "full_df['RAC1P'].value_counts()"
   ],
   "metadata": {
    "collapsed": false,
    "pycharm": {
     "name": "#%%\n"
    }
   }
  },
  {
   "cell_type": "code",
   "execution_count": 13,
   "outputs": [],
   "source": [
    "# Remove a class with a low number of samples to simplify training pipeline\n",
    "full_df = full_df[full_df.RAC1P != 4]"
   ],
   "metadata": {
    "collapsed": false,
    "pycharm": {
     "name": "#%%\n"
    }
   }
  },
  {
   "cell_type": "code",
   "execution_count": 14,
   "outputs": [],
   "source": [
    "full_df.to_csv(f'../datasets/folktables-{DATASET_CONFIG[\"state\"][0]}-{DATASET_CONFIG[\"year\"]}.csv', index=False)"
   ],
   "metadata": {
    "collapsed": false,
    "pycharm": {
     "name": "#%%\n"
    }
   }
  },
  {
   "cell_type": "code",
   "execution_count": null,
   "outputs": [],
   "source": [],
   "metadata": {
    "collapsed": false,
    "pycharm": {
     "name": "#%%\n"
    }
   }
  }
 ],
 "metadata": {
  "kernelspec": {
   "display_name": "Python 3",
   "language": "python",
   "name": "python3"
  },
  "language_info": {
   "codemirror_mode": {
    "name": "ipython",
    "version": 2
   },
   "file_extension": ".py",
   "mimetype": "text/x-python",
   "name": "python",
   "nbconvert_exporter": "python",
   "pygments_lexer": "ipython2",
   "version": "2.7.6"
  }
 },
 "nbformat": 4,
 "nbformat_minor": 0
}