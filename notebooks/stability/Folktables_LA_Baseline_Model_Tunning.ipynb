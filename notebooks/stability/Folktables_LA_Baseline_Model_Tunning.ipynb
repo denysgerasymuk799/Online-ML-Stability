{
 "cells": [
  {
   "cell_type": "markdown",
   "source": [
    "# Baseline Model"
   ],
   "metadata": {
    "collapsed": false
   }
  },
  {
   "cell_type": "markdown",
   "source": [
    "Enable auto-reloading of external modules"
   ],
   "metadata": {
    "collapsed": false
   }
  },
  {
   "cell_type": "code",
   "execution_count": 23,
   "outputs": [
    {
     "name": "stdout",
     "output_type": "stream",
     "text": [
      "The autoreload extension is already loaded. To reload it, use:\n",
      "  %reload_ext autoreload\n"
     ]
    }
   ],
   "source": [
    "%matplotlib inline\n",
    "%load_ext autoreload\n",
    "%autoreload 2"
   ],
   "metadata": {
    "collapsed": false,
    "pycharm": {
     "name": "#%%\n"
    }
   }
  },
  {
   "cell_type": "markdown",
   "source": [
    "Import dependencies"
   ],
   "metadata": {
    "collapsed": false
   }
  },
  {
   "cell_type": "code",
   "execution_count": 24,
   "outputs": [],
   "source": [
    "import os\n",
    "import warnings\n",
    "warnings.filterwarnings('ignore')\n",
    "os.environ[\"PYTHONWARNINGS\"] = \"ignore\""
   ],
   "metadata": {
    "collapsed": false,
    "pycharm": {
     "name": "#%%\n"
    }
   }
  },
  {
   "cell_type": "code",
   "execution_count": 25,
   "outputs": [],
   "source": [
    "import matplotlib\n",
    "import pandas as pd\n",
    "import matplotlib.pyplot as plt\n",
    "\n",
    "from pprint import pprint\n",
    "\n",
    "from source.config import *\n",
    "from source.utils.model_tuning_utils import test_baseline_models\n",
    "\n",
    "plt.style.use('mpl20')\n",
    "matplotlib.rcParams['figure.dpi'] = 100"
   ],
   "metadata": {
    "collapsed": false,
    "pycharm": {
     "name": "#%%\n"
    }
   }
  },
  {
   "cell_type": "code",
   "execution_count": 26,
   "outputs": [],
   "source": [
    "dataset_name = 'folktables'\n",
    "state = 'LA'\n",
    "extended_dataset_name = f\"{dataset_name}_{state}\"\n",
    "dataset_config = DATASETS_CONFIG[dataset_name]\n",
    "TARGET_COLUMN = dataset_config['target_column']"
   ],
   "metadata": {
    "collapsed": false,
    "pycharm": {
     "name": "#%%\n"
    }
   }
  },
  {
   "cell_type": "markdown",
   "id": "e34f792f",
   "metadata": {},
   "source": [
    "## Loading ACSEmployment data"
   ]
  },
  {
   "cell_type": "code",
   "execution_count": 27,
   "outputs": [
    {
     "data": {
      "text/plain": "   AGEP  SCHL  MAR  RELP  DIS  ESP  CIT  MIG  MIL  ANC  NATIVITY  DEAR  DEYE  \\\n0    29    18    5    16    2    0    1    1    4    2         1     2     2   \n1    17    13    5    16    2    0    1    1    4    1         1     2     2   \n2    37    13    5    16    2    0    1    1    4    1         1     2     2   \n3    86    12    2    16    1    0    1    1    4    1         1     2     1   \n4    22    19    5    17    2    0    1    1    4    1         1     2     2   \n\n   DREM  SEX  RAC1P  ESR  \n0     2    1      1    0  \n1     2    1      2    0  \n2     2    1      1    0  \n3     2    2      2    0  \n4     2    2      1    0  ",
      "text/html": "<div>\n<style scoped>\n    .dataframe tbody tr th:only-of-type {\n        vertical-align: middle;\n    }\n\n    .dataframe tbody tr th {\n        vertical-align: top;\n    }\n\n    .dataframe thead th {\n        text-align: right;\n    }\n</style>\n<table border=\"1\" class=\"dataframe\">\n  <thead>\n    <tr style=\"text-align: right;\">\n      <th></th>\n      <th>AGEP</th>\n      <th>SCHL</th>\n      <th>MAR</th>\n      <th>RELP</th>\n      <th>DIS</th>\n      <th>ESP</th>\n      <th>CIT</th>\n      <th>MIG</th>\n      <th>MIL</th>\n      <th>ANC</th>\n      <th>NATIVITY</th>\n      <th>DEAR</th>\n      <th>DEYE</th>\n      <th>DREM</th>\n      <th>SEX</th>\n      <th>RAC1P</th>\n      <th>ESR</th>\n    </tr>\n  </thead>\n  <tbody>\n    <tr>\n      <th>0</th>\n      <td>29</td>\n      <td>18</td>\n      <td>5</td>\n      <td>16</td>\n      <td>2</td>\n      <td>0</td>\n      <td>1</td>\n      <td>1</td>\n      <td>4</td>\n      <td>2</td>\n      <td>1</td>\n      <td>2</td>\n      <td>2</td>\n      <td>2</td>\n      <td>1</td>\n      <td>1</td>\n      <td>0</td>\n    </tr>\n    <tr>\n      <th>1</th>\n      <td>17</td>\n      <td>13</td>\n      <td>5</td>\n      <td>16</td>\n      <td>2</td>\n      <td>0</td>\n      <td>1</td>\n      <td>1</td>\n      <td>4</td>\n      <td>1</td>\n      <td>1</td>\n      <td>2</td>\n      <td>2</td>\n      <td>2</td>\n      <td>1</td>\n      <td>2</td>\n      <td>0</td>\n    </tr>\n    <tr>\n      <th>2</th>\n      <td>37</td>\n      <td>13</td>\n      <td>5</td>\n      <td>16</td>\n      <td>2</td>\n      <td>0</td>\n      <td>1</td>\n      <td>1</td>\n      <td>4</td>\n      <td>1</td>\n      <td>1</td>\n      <td>2</td>\n      <td>2</td>\n      <td>2</td>\n      <td>1</td>\n      <td>1</td>\n      <td>0</td>\n    </tr>\n    <tr>\n      <th>3</th>\n      <td>86</td>\n      <td>12</td>\n      <td>2</td>\n      <td>16</td>\n      <td>1</td>\n      <td>0</td>\n      <td>1</td>\n      <td>1</td>\n      <td>4</td>\n      <td>1</td>\n      <td>1</td>\n      <td>2</td>\n      <td>1</td>\n      <td>2</td>\n      <td>2</td>\n      <td>2</td>\n      <td>0</td>\n    </tr>\n    <tr>\n      <th>4</th>\n      <td>22</td>\n      <td>19</td>\n      <td>5</td>\n      <td>17</td>\n      <td>2</td>\n      <td>0</td>\n      <td>1</td>\n      <td>1</td>\n      <td>4</td>\n      <td>1</td>\n      <td>1</td>\n      <td>2</td>\n      <td>2</td>\n      <td>2</td>\n      <td>2</td>\n      <td>1</td>\n      <td>0</td>\n    </tr>\n  </tbody>\n</table>\n</div>"
     },
     "execution_count": 27,
     "metadata": {},
     "output_type": "execute_result"
    }
   ],
   "source": [
    "# Creating a data frame\n",
    "df = pd.read_csv(f\"../../datasets/folktables-{state}-2018.csv\", delimiter=',')\n",
    "df.head()"
   ],
   "metadata": {
    "collapsed": false,
    "pycharm": {
     "name": "#%%\n"
    }
   }
  },
  {
   "cell_type": "code",
   "execution_count": 28,
   "outputs": [
    {
     "data": {
      "text/plain": "(43588, 17)"
     },
     "execution_count": 28,
     "metadata": {},
     "output_type": "execute_result"
    }
   ],
   "source": [
    "df.shape"
   ],
   "metadata": {
    "collapsed": false,
    "pycharm": {
     "name": "#%%\n"
    }
   }
  },
  {
   "cell_type": "code",
   "execution_count": 29,
   "outputs": [
    {
     "data": {
      "text/plain": "0    25363\n1    18225\nName: ESR, dtype: int64"
     },
     "execution_count": 29,
     "metadata": {},
     "output_type": "execute_result"
    }
   ],
   "source": [
    "df[TARGET_COLUMN].value_counts()"
   ],
   "metadata": {
    "collapsed": false,
    "pycharm": {
     "name": "#%%\n"
    }
   }
  },
  {
   "cell_type": "code",
   "execution_count": 30,
   "outputs": [
    {
     "data": {
      "text/plain": "1    29442\n2    11583\n9     1002\n6      765\n8      512\n3      224\n5       48\n7       12\nName: RAC1P, dtype: int64"
     },
     "execution_count": 30,
     "metadata": {},
     "output_type": "execute_result"
    }
   ],
   "source": [
    "df['RAC1P'].value_counts()"
   ],
   "metadata": {
    "collapsed": false,
    "pycharm": {
     "name": "#%%\n"
    }
   }
  },
  {
   "cell_type": "code",
   "execution_count": 31,
   "outputs": [
    {
     "data": {
      "text/plain": "['MAR',\n 'RELP',\n 'DIS',\n 'ESP',\n 'CIT',\n 'MIG',\n 'MIL',\n 'ANC',\n 'NATIVITY',\n 'DEAR',\n 'DEYE',\n 'DREM',\n 'SEX',\n 'RAC1P']"
     },
     "execution_count": 31,
     "metadata": {},
     "output_type": "execute_result"
    }
   ],
   "source": [
    "numerical_features = dataset_config['numerical_features']\n",
    "categorical_features = [col for col in df.columns if col not in dataset_config['numerical_features'] + [TARGET_COLUMN]]\n",
    "\n",
    "categorical_features"
   ],
   "metadata": {
    "collapsed": false,
    "pycharm": {
     "name": "#%%\n"
    }
   }
  },
  {
   "cell_type": "markdown",
   "source": [
    "## Tune hyper-parameters and find the best baseline model"
   ],
   "metadata": {
    "collapsed": false
   }
  },
  {
   "cell_type": "code",
   "execution_count": 32,
   "outputs": [
    {
     "data": {
      "text/plain": "   AGEP  SCHL  MAR  RELP  DIS  ESP  CIT  MIG  MIL  ANC  NATIVITY  DEAR  DEYE  \\\n0    29    18    5    16    2    0    1    1    4    2         1     2     2   \n1    17    13    5    16    2    0    1    1    4    1         1     2     2   \n2    37    13    5    16    2    0    1    1    4    1         1     2     2   \n3    86    12    2    16    1    0    1    1    4    1         1     2     1   \n4    22    19    5    17    2    0    1    1    4    1         1     2     2   \n\n   DREM  SEX  RAC1P  \n0     2    1      1  \n1     2    1      2  \n2     2    1      1  \n3     2    2      2  \n4     2    2      1  ",
      "text/html": "<div>\n<style scoped>\n    .dataframe tbody tr th:only-of-type {\n        vertical-align: middle;\n    }\n\n    .dataframe tbody tr th {\n        vertical-align: top;\n    }\n\n    .dataframe thead th {\n        text-align: right;\n    }\n</style>\n<table border=\"1\" class=\"dataframe\">\n  <thead>\n    <tr style=\"text-align: right;\">\n      <th></th>\n      <th>AGEP</th>\n      <th>SCHL</th>\n      <th>MAR</th>\n      <th>RELP</th>\n      <th>DIS</th>\n      <th>ESP</th>\n      <th>CIT</th>\n      <th>MIG</th>\n      <th>MIL</th>\n      <th>ANC</th>\n      <th>NATIVITY</th>\n      <th>DEAR</th>\n      <th>DEYE</th>\n      <th>DREM</th>\n      <th>SEX</th>\n      <th>RAC1P</th>\n    </tr>\n  </thead>\n  <tbody>\n    <tr>\n      <th>0</th>\n      <td>29</td>\n      <td>18</td>\n      <td>5</td>\n      <td>16</td>\n      <td>2</td>\n      <td>0</td>\n      <td>1</td>\n      <td>1</td>\n      <td>4</td>\n      <td>2</td>\n      <td>1</td>\n      <td>2</td>\n      <td>2</td>\n      <td>2</td>\n      <td>1</td>\n      <td>1</td>\n    </tr>\n    <tr>\n      <th>1</th>\n      <td>17</td>\n      <td>13</td>\n      <td>5</td>\n      <td>16</td>\n      <td>2</td>\n      <td>0</td>\n      <td>1</td>\n      <td>1</td>\n      <td>4</td>\n      <td>1</td>\n      <td>1</td>\n      <td>2</td>\n      <td>2</td>\n      <td>2</td>\n      <td>1</td>\n      <td>2</td>\n    </tr>\n    <tr>\n      <th>2</th>\n      <td>37</td>\n      <td>13</td>\n      <td>5</td>\n      <td>16</td>\n      <td>2</td>\n      <td>0</td>\n      <td>1</td>\n      <td>1</td>\n      <td>4</td>\n      <td>1</td>\n      <td>1</td>\n      <td>2</td>\n      <td>2</td>\n      <td>2</td>\n      <td>1</td>\n      <td>1</td>\n    </tr>\n    <tr>\n      <th>3</th>\n      <td>86</td>\n      <td>12</td>\n      <td>2</td>\n      <td>16</td>\n      <td>1</td>\n      <td>0</td>\n      <td>1</td>\n      <td>1</td>\n      <td>4</td>\n      <td>1</td>\n      <td>1</td>\n      <td>2</td>\n      <td>1</td>\n      <td>2</td>\n      <td>2</td>\n      <td>2</td>\n    </tr>\n    <tr>\n      <th>4</th>\n      <td>22</td>\n      <td>19</td>\n      <td>5</td>\n      <td>17</td>\n      <td>2</td>\n      <td>0</td>\n      <td>1</td>\n      <td>1</td>\n      <td>4</td>\n      <td>1</td>\n      <td>1</td>\n      <td>2</td>\n      <td>2</td>\n      <td>2</td>\n      <td>2</td>\n      <td>1</td>\n    </tr>\n  </tbody>\n</table>\n</div>"
     },
     "execution_count": 32,
     "metadata": {},
     "output_type": "execute_result"
    }
   ],
   "source": [
    "baseline_y_data = df[TARGET_COLUMN]\n",
    "baseline_X_data = df.drop([TARGET_COLUMN], axis=1)\n",
    "\n",
    "baseline_X_data.head()"
   ],
   "metadata": {
    "collapsed": false,
    "pycharm": {
     "name": "#%%\n"
    }
   }
  },
  {
   "cell_type": "code",
   "execution_count": 33,
   "outputs": [
    {
     "data": {
      "text/plain": "0    0\n1    0\n2    0\n3    0\n4    0\nName: ESR, dtype: int64"
     },
     "execution_count": 33,
     "metadata": {},
     "output_type": "execute_result"
    }
   ],
   "source": [
    "baseline_y_data.head()"
   ],
   "metadata": {
    "collapsed": false,
    "pycharm": {
     "name": "#%%\n"
    }
   }
  },
  {
   "cell_type": "code",
   "execution_count": 34,
   "outputs": [
    {
     "name": "stdout",
     "output_type": "stream",
     "text": [
      "Baseline X_train shape:  (34871, 16)\n",
      "Baseline X_test shape:  (8717, 16)\n",
      "X_train_features.columns:  Index(['MAR_1', 'MAR_2', 'MAR_3', 'MAR_4', 'MAR_5', 'RELP_0', 'RELP_1',\n",
      "       'RELP_2', 'RELP_3', 'RELP_4', 'RELP_5', 'RELP_6', 'RELP_7', 'RELP_8',\n",
      "       'RELP_9', 'RELP_10', 'RELP_11', 'RELP_12', 'RELP_13', 'RELP_14',\n",
      "       'RELP_15', 'RELP_16', 'RELP_17', 'DIS_1', 'DIS_2', 'ESP_0', 'ESP_1',\n",
      "       'ESP_2', 'ESP_3', 'ESP_4', 'ESP_5', 'ESP_6', 'ESP_7', 'ESP_8', 'CIT_1',\n",
      "       'CIT_2', 'CIT_3', 'CIT_4', 'CIT_5', 'MIG_0', 'MIG_1', 'MIG_2', 'MIG_3',\n",
      "       'MIL_0', 'MIL_1', 'MIL_2', 'MIL_3', 'MIL_4', 'ANC_1', 'ANC_2', 'ANC_3',\n",
      "       'ANC_4', 'NATIVITY_1', 'NATIVITY_2', 'DEAR_1', 'DEAR_2', 'DEYE_1',\n",
      "       'DEYE_2', 'DREM_0', 'DREM_1', 'DREM_2', 'SEX_1', 'SEX_2', 'RAC1P_1',\n",
      "       'RAC1P_2', 'RAC1P_3', 'RAC1P_5', 'RAC1P_6', 'RAC1P_7', 'RAC1P_8',\n",
      "       'RAC1P_9', 'AGEP', 'SCHL'],\n",
      "      dtype='object')\n",
      "Tuning XGBClassifier...\n",
      "Tuning for XGBClassifier is finished\n",
      "####################  Folktables_la  ####################\n",
      "Test model:  XGBClassifier\n",
      "Test model parameters:\n",
      "{'learning_rate': 0.1,\n",
      " 'max_depth': 5,\n",
      " 'n_estimators': 100,\n",
      " 'objective': 'binary:logistic'}\n",
      "\n",
      "              precision    recall  f1-score   support\n",
      "\n",
      "           0      0.874     0.809     0.840      5140\n",
      "           1      0.752     0.833     0.790      3577\n",
      "\n",
      "    accuracy                          0.819      8717\n",
      "   macro avg      0.813     0.821     0.815      8717\n",
      "weighted avg      0.824     0.819     0.820      8717\n",
      "\n"
     ]
    },
    {
     "data": {
      "text/plain": "<Figure size 640x480 with 2 Axes>",
      "image/png": "[encoded data removed]"
     },
     "metadata": {},
     "output_type": "display_data"
    },
    {
     "name": "stdout",
     "output_type": "stream",
     "text": [
      "Tuning RandomForestClassifier...\n",
      "Tuning for RandomForestClassifier is finished\n",
      "####################  Folktables_la  ####################\n",
      "Test model:  RandomForestClassifier\n",
      "Test model parameters:\n",
      "{'max_depth': 10,\n",
      " 'min_samples_leaf': 1,\n",
      " 'min_samples_split': 2,\n",
      " 'n_estimators': 50}\n",
      "\n",
      "              precision    recall  f1-score   support\n",
      "\n",
      "           0      0.882     0.781     0.828      5140\n",
      "           1      0.729     0.849     0.785      3577\n",
      "\n",
      "    accuracy                          0.809      8717\n",
      "   macro avg      0.806     0.815     0.806      8717\n",
      "weighted avg      0.819     0.809     0.810      8717\n",
      "\n"
     ]
    },
    {
     "data": {
      "text/plain": "<Figure size 640x480 with 2 Axes>",
      "image/png": "[encoded data removed]"
     },
     "metadata": {},
     "output_type": "display_data"
    },
    {
     "data": {
      "text/plain": "    Dataset_Name              Model_Name  F1_Score  Accuracy_Score  \\\n0  Folktables_la           XGBClassifier  0.815379        0.818745   \n1  Folktables_la  RandomForestClassifier  0.806458        0.808879   \n\n                                   Model_Best_Params  \n0  {'learning_rate': 0.1, 'max_depth': 5, 'n_esti...  \n1  {'max_depth': 10, 'min_samples_leaf': 1, 'min_...  ",
      "text/html": "<div>\n<style scoped>\n    .dataframe tbody tr th:only-of-type {\n        vertical-align: middle;\n    }\n\n    .dataframe tbody tr th {\n        vertical-align: top;\n    }\n\n    .dataframe thead th {\n        text-align: right;\n    }\n</style>\n<table border=\"1\" class=\"dataframe\">\n  <thead>\n    <tr style=\"text-align: right;\">\n      <th></th>\n      <th>Dataset_Name</th>\n      <th>Model_Name</th>\n      <th>F1_Score</th>\n      <th>Accuracy_Score</th>\n      <th>Model_Best_Params</th>\n    </tr>\n  </thead>\n  <tbody>\n    <tr>\n      <th>0</th>\n      <td>Folktables_la</td>\n      <td>XGBClassifier</td>\n      <td>0.815379</td>\n      <td>0.818745</td>\n      <td>{'learning_rate': 0.1, 'max_depth': 5, 'n_esti...</td>\n    </tr>\n    <tr>\n      <th>1</th>\n      <td>Folktables_la</td>\n      <td>RandomForestClassifier</td>\n      <td>0.806458</td>\n      <td>0.808879</td>\n      <td>{'max_depth': 10, 'min_samples_leaf': 1, 'min_...</td>\n    </tr>\n  </tbody>\n</table>\n</div>"
     },
     "execution_count": 34,
     "metadata": {},
     "output_type": "execute_result"
    }
   ],
   "source": [
    "ML_baseline_results_df = test_baseline_models(baseline_X_data, baseline_y_data, categorical_features, numerical_features,\n",
    "                                              dataset_name=f\"{dataset_name.capitalize()}_{state}\")\n",
    "ML_baseline_results_df"
   ],
   "metadata": {
    "collapsed": false,
    "pycharm": {
     "name": "#%%\n"
    }
   }
  },
  {
   "cell_type": "code",
   "execution_count": 35,
   "outputs": [
    {
     "name": "stdout",
     "output_type": "stream",
     "text": [
      "\n",
      "\n",
      "Model name: XGBClassifier\n",
      "{'learning_rate': 0.1,\n",
      " 'max_depth': 5,\n",
      " 'n_estimators': 100,\n",
      " 'objective': 'binary:logistic'}\n",
      "\n",
      "\n",
      "Model name: RandomForestClassifier\n",
      "{'max_depth': 10,\n",
      " 'min_samples_leaf': 1,\n",
      " 'min_samples_split': 2,\n",
      " 'n_estimators': 50}\n"
     ]
    }
   ],
   "source": [
    "for index, row in ML_baseline_results_df.iterrows():\n",
    "    print(f'\\n\\nModel name: {row[\"Model_Name\"]}')\n",
    "    pprint(row['Model_Best_Params'])"
   ],
   "metadata": {
    "collapsed": false,
    "pycharm": {
     "name": "#%%\n"
    }
   }
  },
  {
   "cell_type": "code",
   "execution_count": 36,
   "outputs": [],
   "source": [
    "ML_baseline_results_df.to_csv(os.path.join('..', '..', 'results', f'ML_baseline_results_{extended_dataset_name}.csv'),\n",
    "                              sep=\",\", columns=ML_baseline_results_df.columns, float_format=\"%.4f\")"
   ],
   "metadata": {
    "collapsed": false,
    "pycharm": {
     "name": "#%%\n"
    }
   }
  },
  {
   "cell_type": "code",
   "execution_count": null,
   "outputs": [],
   "source": [],
   "metadata": {
    "collapsed": false,
    "pycharm": {
     "name": "#%%\n"
    }
   }
  }
 ],
 "metadata": {
  "kernelspec": {
   "display_name": "Python 3 (ipykernel)",
   "language": "python",
   "name": "python3"
  },
  "language_info": {
   "codemirror_mode": {
    "name": "ipython",
    "version": 3
   },
   "file_extension": ".py",
   "mimetype": "text/x-python",
   "name": "python",
   "nbconvert_exporter": "python",
   "pygments_lexer": "ipython3",
   "version": "3.9.7"
  }
 },
 "nbformat": 4,
 "nbformat_minor": 5
}