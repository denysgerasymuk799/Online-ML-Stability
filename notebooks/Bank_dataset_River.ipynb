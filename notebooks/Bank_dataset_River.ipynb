{
 "cells": [
  {
   "cell_type": "code",
   "execution_count": 1,
   "outputs": [
    {
     "data": {
      "text/plain": "   age        job  marital    education  default housing loan    contact  \\\n0   56  housemaid  married     basic.4y       no      no   no  telephone   \n1   57   services  married  high.school  unknown      no   no  telephone   \n2   37   services  married  high.school       no     yes   no  telephone   \n3   40     admin.  married     basic.6y       no      no   no  telephone   \n4   56   services  married  high.school       no      no  yes  telephone   \n\n  month day_of_week  ...  campaign  pdays  previous     poutcome emp.var.rate  \\\n0   may         mon  ...         1    999         0  nonexistent          1.1   \n1   may         mon  ...         1    999         0  nonexistent          1.1   \n2   may         mon  ...         1    999         0  nonexistent          1.1   \n3   may         mon  ...         1    999         0  nonexistent          1.1   \n4   may         mon  ...         1    999         0  nonexistent          1.1   \n\n   cons.price.idx  cons.conf.idx  euribor3m  nr.employed   y  \n0          93.994          -36.4      4.857       5191.0  no  \n1          93.994          -36.4      4.857       5191.0  no  \n2          93.994          -36.4      4.857       5191.0  no  \n3          93.994          -36.4      4.857       5191.0  no  \n4          93.994          -36.4      4.857       5191.0  no  \n\n[5 rows x 21 columns]",
      "text/html": "<div>\n<style scoped>\n    .dataframe tbody tr th:only-of-type {\n        vertical-align: middle;\n    }\n\n    .dataframe tbody tr th {\n        vertical-align: top;\n    }\n\n    .dataframe thead th {\n        text-align: right;\n    }\n</style>\n<table border=\"1\" class=\"dataframe\">\n  <thead>\n    <tr style=\"text-align: right;\">\n      <th></th>\n      <th>age</th>\n      <th>job</th>\n      <th>marital</th>\n      <th>education</th>\n      <th>default</th>\n      <th>housing</th>\n      <th>loan</th>\n      <th>contact</th>\n      <th>month</th>\n      <th>day_of_week</th>\n      <th>...</th>\n      <th>campaign</th>\n      <th>pdays</th>\n      <th>previous</th>\n      <th>poutcome</th>\n      <th>emp.var.rate</th>\n      <th>cons.price.idx</th>\n      <th>cons.conf.idx</th>\n      <th>euribor3m</th>\n      <th>nr.employed</th>\n      <th>y</th>\n    </tr>\n  </thead>\n  <tbody>\n    <tr>\n      <th>0</th>\n      <td>56</td>\n      <td>housemaid</td>\n      <td>married</td>\n      <td>basic.4y</td>\n      <td>no</td>\n      <td>no</td>\n      <td>no</td>\n      <td>telephone</td>\n      <td>may</td>\n      <td>mon</td>\n      <td>...</td>\n      <td>1</td>\n      <td>999</td>\n      <td>0</td>\n      <td>nonexistent</td>\n      <td>1.1</td>\n      <td>93.994</td>\n      <td>-36.4</td>\n      <td>4.857</td>\n      <td>5191.0</td>\n      <td>no</td>\n    </tr>\n    <tr>\n      <th>1</th>\n      <td>57</td>\n      <td>services</td>\n      <td>married</td>\n      <td>high.school</td>\n      <td>unknown</td>\n      <td>no</td>\n      <td>no</td>\n      <td>telephone</td>\n      <td>may</td>\n      <td>mon</td>\n      <td>...</td>\n      <td>1</td>\n      <td>999</td>\n      <td>0</td>\n      <td>nonexistent</td>\n      <td>1.1</td>\n      <td>93.994</td>\n      <td>-36.4</td>\n      <td>4.857</td>\n      <td>5191.0</td>\n      <td>no</td>\n    </tr>\n    <tr>\n      <th>2</th>\n      <td>37</td>\n      <td>services</td>\n      <td>married</td>\n      <td>high.school</td>\n      <td>no</td>\n      <td>yes</td>\n      <td>no</td>\n      <td>telephone</td>\n      <td>may</td>\n      <td>mon</td>\n      <td>...</td>\n      <td>1</td>\n      <td>999</td>\n      <td>0</td>\n      <td>nonexistent</td>\n      <td>1.1</td>\n      <td>93.994</td>\n      <td>-36.4</td>\n      <td>4.857</td>\n      <td>5191.0</td>\n      <td>no</td>\n    </tr>\n    <tr>\n      <th>3</th>\n      <td>40</td>\n      <td>admin.</td>\n      <td>married</td>\n      <td>basic.6y</td>\n      <td>no</td>\n      <td>no</td>\n      <td>no</td>\n      <td>telephone</td>\n      <td>may</td>\n      <td>mon</td>\n      <td>...</td>\n      <td>1</td>\n      <td>999</td>\n      <td>0</td>\n      <td>nonexistent</td>\n      <td>1.1</td>\n      <td>93.994</td>\n      <td>-36.4</td>\n      <td>4.857</td>\n      <td>5191.0</td>\n      <td>no</td>\n    </tr>\n    <tr>\n      <th>4</th>\n      <td>56</td>\n      <td>services</td>\n      <td>married</td>\n      <td>high.school</td>\n      <td>no</td>\n      <td>no</td>\n      <td>yes</td>\n      <td>telephone</td>\n      <td>may</td>\n      <td>mon</td>\n      <td>...</td>\n      <td>1</td>\n      <td>999</td>\n      <td>0</td>\n      <td>nonexistent</td>\n      <td>1.1</td>\n      <td>93.994</td>\n      <td>-36.4</td>\n      <td>4.857</td>\n      <td>5191.0</td>\n      <td>no</td>\n    </tr>\n  </tbody>\n</table>\n<p>5 rows × 21 columns</p>\n</div>"
     },
     "execution_count": 1,
     "metadata": {},
     "output_type": "execute_result"
    }
   ],
   "source": [
    "import pandas as pd\n",
    "\n",
    "# Creating a data frame\n",
    "df = pd.read_csv(\"../datasets/bank-additional-full.csv\", delimiter=';')\n",
    "df.head()"
   ],
   "metadata": {
    "collapsed": false,
    "pycharm": {
     "name": "#%%\n"
    }
   }
  },
  {
   "cell_type": "markdown",
   "source": [
    "### Apply River classification models"
   ],
   "metadata": {
    "collapsed": false
   }
  },
  {
   "cell_type": "code",
   "execution_count": 2,
   "metadata": {
    "collapsed": true
   },
   "outputs": [
    {
     "data": {
      "text/plain": "Accuracy: 76.68%"
     },
     "execution_count": 2,
     "metadata": {},
     "output_type": "execute_result"
    }
   ],
   "source": [
    "from river import ensemble\n",
    "from river import evaluate\n",
    "from river import metrics\n",
    "from river.datasets import synth\n",
    "\n",
    "dataset = synth.ConceptDriftStream(seed=42,\n",
    "                                   position=500,\n",
    "                                   width=40).take(1000)\n",
    "\n",
    "model = ensemble.AdaptiveRandomForestClassifier(seed=8, leaf_prediction=\"mc\")\n",
    "\n",
    "metric = metrics.Accuracy()\n",
    "\n",
    "evaluate.progressive_val_score(dataset, model, metric)"
   ]
  },
  {
   "cell_type": "code",
   "execution_count": 3,
   "outputs": [],
   "source": [
    "from river import stream\n",
    "from river.datasets import base\n",
    "\n",
    "\n",
    "class BankDataset(base.FileDataset):\n",
    "    def __init__(self):\n",
    "        super().__init__(\n",
    "            filename=\"bank-additional-full.csv\",\n",
    "            directory=\"../datasets\",\n",
    "            n_features=20,\n",
    "            task=base.BINARY_CLF,\n",
    "        )\n",
    "\n",
    "    def __iter__(self):\n",
    "        return stream.iter_csv(\n",
    "            self.path,\n",
    "            target=\"y\",\n",
    "            delimiter=';',\n",
    "            converters={\n",
    "                \"age\": int,\n",
    "                \"duration\": int,\n",
    "                \"campaign\": int,\n",
    "                \"pdays\": int,\n",
    "                \"previous\": int,\n",
    "                \"emp.var.rate\": float,\n",
    "                \"cons.price.idx\": float,\n",
    "                \"cons.conf.idx\": float,\n",
    "                \"euribor3m\": float,\n",
    "                \"nr.employed\": int\n",
    "            },\n",
    "        )"
   ],
   "metadata": {
    "collapsed": false,
    "pycharm": {
     "name": "#%%\n"
    }
   }
  },
  {
   "cell_type": "code",
   "execution_count": 12,
   "outputs": [
    {
     "name": "stdout",
     "output_type": "stream",
     "text": [
      "{'age': 0.0,\n",
      " 'campaign': 0.0,\n",
      " 'cons.conf.idx': 0.0,\n",
      " 'cons.price.idx': 0.0,\n",
      " 'contact_telephone': 0.0,\n",
      " 'day_of_week_mon': 0.0,\n",
      " 'default_no': 0.0,\n",
      " 'duration': 0.0,\n",
      " 'education_basic.4y': 0.0,\n",
      " 'emp.var.rate': 0.0,\n",
      " 'euribor3m': 0.0,\n",
      " 'housing_no': 0.0,\n",
      " 'job_housemaid': 0.0,\n",
      " 'loan_no': 0.0,\n",
      " 'marital_married': 0.0,\n",
      " 'month_may': 0.0,\n",
      " 'nr.employed': 0.0,\n",
      " 'pdays': 0.0,\n",
      " 'poutcome_nonexistent': 0.0,\n",
      " 'previous': 0.0}\n",
      "{'age': 1.0,\n",
      " 'campaign': 0.0,\n",
      " 'cons.conf.idx': 0.0,\n",
      " 'cons.price.idx': 0.0,\n",
      " 'contact_telephone': 0.0,\n",
      " 'day_of_week_mon': 0.0,\n",
      " 'default_no': -1.0,\n",
      " 'default_unknown': 0.0,\n",
      " 'duration': -1.0,\n",
      " 'education_basic.4y': -1.0,\n",
      " 'education_high.school': 0.0,\n",
      " 'emp.var.rate': 0.0,\n",
      " 'euribor3m': 0.0,\n",
      " 'housing_no': 0.0,\n",
      " 'job_housemaid': -1.0,\n",
      " 'job_services': 0.0,\n",
      " 'loan_no': 0.0,\n",
      " 'marital_married': 0.0,\n",
      " 'month_may': 0.0,\n",
      " 'nr.employed': 0.0,\n",
      " 'pdays': 0.0,\n",
      " 'poutcome_nonexistent': 0.0,\n",
      " 'previous': 0.0}\n",
      "{'age': -1.4128209342043259,\n",
      " 'campaign': 0.0,\n",
      " 'cons.conf.idx': 0.0,\n",
      " 'cons.price.idx': 0.0,\n",
      " 'contact_telephone': 0.0,\n",
      " 'day_of_week_mon': 0.0,\n",
      " 'default_no': 0.7071067811865476,\n",
      " 'default_unknown': -1.0,\n",
      " 'duration': 0.29925280083228983,\n",
      " 'education_basic.4y': -0.7071067811865476,\n",
      " 'education_high.school': 0.0,\n",
      " 'emp.var.rate': 0.0,\n",
      " 'euribor3m': 0.0,\n",
      " 'housing_no': -1.4142135623730951,\n",
      " 'housing_yes': 0.0,\n",
      " 'job_housemaid': -0.7071067811865476,\n",
      " 'job_services': 0.0,\n",
      " 'loan_no': 0.0,\n",
      " 'marital_married': 0.0,\n",
      " 'month_may': 0.0,\n",
      " 'nr.employed': 0.0,\n",
      " 'pdays': 0.0,\n",
      " 'poutcome_nonexistent': 0.0,\n",
      " 'previous': 0.0}\n"
     ]
    }
   ],
   "source": [
    "from river import compose\n",
    "from river import preprocessing\n",
    "from river import metrics\n",
    "\n",
    "from pprint import pprint\n",
    "\n",
    "categorical_features = ['job', 'marital', 'education', 'default', 'housing', 'loan', 'contact', 'month', 'day_of_week', 'poutcome']\n",
    "numerical_features = (feature for feature in df.columns if feature not in categorical_features + ['y'])\n",
    "\n",
    "# pp = compose.Select('job') | preprocessing.OneHotEncoder()\n",
    "model = compose.Select(categorical_features[0])\n",
    "for feature in categorical_features[1:]:\n",
    "    model += compose.Select(feature)\n",
    "model |= preprocessing.OneHotEncoder()\n",
    "\n",
    "for feature in numerical_features:\n",
    "    model += compose.Select(feature)\n",
    "model |= preprocessing.StandardScaler()\n",
    "model |= ensemble.AdaptiveRandomForestClassifier(seed=8, leaf_prediction=\"mc\")\n",
    "\n",
    "bank_dataset = BankDataset()\n",
    "metric = metrics.Accuracy()\n",
    "\n",
    "for idx, (x, y) in enumerate(bank_dataset):\n",
    "    model = model.learn_one(x)\n",
    "    pprint(model.transform_one(x))\n",
    "    if idx == 2:\n",
    "        break"
   ],
   "metadata": {
    "collapsed": false,
    "pycharm": {
     "name": "#%%\n"
    }
   }
  },
  {
   "cell_type": "code",
   "execution_count": 15,
   "outputs": [
    {
     "ename": "TypeError",
     "evalue": "'<' not supported between instances of 'NoneType' and 'str'",
     "output_type": "error",
     "traceback": [
      "\u001B[0;31m---------------------------------------------------------------------------\u001B[0m",
      "\u001B[0;31mTypeError\u001B[0m                                 Traceback (most recent call last)",
      "Input \u001B[0;32mIn [15]\u001B[0m, in \u001B[0;36m<cell line: 1>\u001B[0;34m()\u001B[0m\n\u001B[1;32m      1\u001B[0m \u001B[38;5;28;01mfor\u001B[39;00m idx, (x, y) \u001B[38;5;129;01min\u001B[39;00m \u001B[38;5;28menumerate\u001B[39m(bank_dataset):\n\u001B[1;32m      2\u001B[0m     \u001B[38;5;66;03m# Obtain the prior prediction and update the model in one go\u001B[39;00m\n\u001B[0;32m----> 3\u001B[0m     y_pred \u001B[38;5;241m=\u001B[39m \u001B[43mmodel\u001B[49m\u001B[38;5;241;43m.\u001B[39;49m\u001B[43mpredict_one\u001B[49m\u001B[43m(\u001B[49m\u001B[43mx\u001B[49m\u001B[43m)\u001B[49m\n\u001B[1;32m      4\u001B[0m     model\u001B[38;5;241m.\u001B[39mlearn_one(x, y)\n\u001B[1;32m      6\u001B[0m     \u001B[38;5;66;03m# Update the error metric\u001B[39;00m\n",
      "File \u001B[0;32m~/UCU/Studying_abroad/NYU_Internship/Code/RAI-summer-stability/RAI_venv/lib/python3.8/site-packages/river/compose/pipeline.py:594\u001B[0m, in \u001B[0;36mPipeline.predict_one\u001B[0;34m(self, x, **params)\u001B[0m\n\u001B[1;32m    585\u001B[0m \u001B[38;5;124;03m\"\"\"Call `transform_one` on the first steps and `predict_one` on the last step.\u001B[39;00m\n\u001B[1;32m    586\u001B[0m \n\u001B[1;32m    587\u001B[0m \u001B[38;5;124;03mParameters\u001B[39;00m\n\u001B[0;32m   (...)\u001B[0m\n\u001B[1;32m    591\u001B[0m \n\u001B[1;32m    592\u001B[0m \u001B[38;5;124;03m\"\"\"\u001B[39;00m\n\u001B[1;32m    593\u001B[0m x, last_step \u001B[38;5;241m=\u001B[39m \u001B[38;5;28mself\u001B[39m\u001B[38;5;241m.\u001B[39m_transform_one(x)\n\u001B[0;32m--> 594\u001B[0m \u001B[38;5;28;01mreturn\u001B[39;00m \u001B[43mlast_step\u001B[49m\u001B[38;5;241;43m.\u001B[39;49m\u001B[43mpredict_one\u001B[49m\u001B[43m(\u001B[49m\u001B[43mx\u001B[49m\u001B[43m,\u001B[49m\u001B[43m \u001B[49m\u001B[38;5;241;43m*\u001B[39;49m\u001B[38;5;241;43m*\u001B[39;49m\u001B[43mparams\u001B[49m\u001B[43m)\u001B[49m\n",
      "File \u001B[0;32m~/UCU/Studying_abroad/NYU_Internship/Code/RAI-summer-stability/RAI_venv/lib/python3.8/site-packages/river/base/classifier.py:68\u001B[0m, in \u001B[0;36mClassifier.predict_one\u001B[0;34m(self, x)\u001B[0m\n\u001B[1;32m     53\u001B[0m \u001B[38;5;124;03m\"\"\"Predict the label of a set of features `x`.\u001B[39;00m\n\u001B[1;32m     54\u001B[0m \n\u001B[1;32m     55\u001B[0m \u001B[38;5;124;03mParameters\u001B[39;00m\n\u001B[0;32m   (...)\u001B[0m\n\u001B[1;32m     63\u001B[0m \n\u001B[1;32m     64\u001B[0m \u001B[38;5;124;03m\"\"\"\u001B[39;00m\n\u001B[1;32m     66\u001B[0m \u001B[38;5;66;03m# The following code acts as a default for each classifier, and may be overridden on an\u001B[39;00m\n\u001B[1;32m     67\u001B[0m \u001B[38;5;66;03m# individual basis.\u001B[39;00m\n\u001B[0;32m---> 68\u001B[0m y_pred \u001B[38;5;241m=\u001B[39m \u001B[38;5;28;43mself\u001B[39;49m\u001B[38;5;241;43m.\u001B[39;49m\u001B[43mpredict_proba_one\u001B[49m\u001B[43m(\u001B[49m\u001B[43mx\u001B[49m\u001B[43m)\u001B[49m\n\u001B[1;32m     69\u001B[0m \u001B[38;5;28;01mif\u001B[39;00m y_pred:\n\u001B[1;32m     70\u001B[0m     \u001B[38;5;28;01mreturn\u001B[39;00m \u001B[38;5;28mmax\u001B[39m(y_pred, key\u001B[38;5;241m=\u001B[39my_pred\u001B[38;5;241m.\u001B[39mget)  \u001B[38;5;66;03m# type: ignore\u001B[39;00m\n",
      "File \u001B[0;32m~/UCU/Studying_abroad/NYU_Internship/Code/RAI-summer-stability/RAI_venv/lib/python3.8/site-packages/river/ensemble/adaptive_random_forest.py:540\u001B[0m, in \u001B[0;36mAdaptiveRandomForestClassifier.predict_proba_one\u001B[0;34m(self, x)\u001B[0m\n\u001B[1;32m    537\u001B[0m     \u001B[38;5;28;01mreturn\u001B[39;00m y_pred  \u001B[38;5;66;03m# type: ignore\u001B[39;00m\n\u001B[1;32m    539\u001B[0m \u001B[38;5;28;01mfor\u001B[39;00m model \u001B[38;5;129;01min\u001B[39;00m \u001B[38;5;28mself\u001B[39m:\n\u001B[0;32m--> 540\u001B[0m     y_proba_temp \u001B[38;5;241m=\u001B[39m \u001B[43mmodel\u001B[49m\u001B[38;5;241;43m.\u001B[39;49m\u001B[43mpredict_proba_one\u001B[49m\u001B[43m(\u001B[49m\u001B[43mx\u001B[49m\u001B[43m)\u001B[49m\n\u001B[1;32m    541\u001B[0m     metric_value \u001B[38;5;241m=\u001B[39m model\u001B[38;5;241m.\u001B[39mmetric\u001B[38;5;241m.\u001B[39mget()\n\u001B[1;32m    542\u001B[0m     \u001B[38;5;28;01mif\u001B[39;00m \u001B[38;5;129;01mnot\u001B[39;00m \u001B[38;5;28mself\u001B[39m\u001B[38;5;241m.\u001B[39mdisable_weighted_vote \u001B[38;5;129;01mand\u001B[39;00m metric_value \u001B[38;5;241m>\u001B[39m \u001B[38;5;241m0.0\u001B[39m:\n",
      "File \u001B[0;32m~/UCU/Studying_abroad/NYU_Internship/Code/RAI-summer-stability/RAI_venv/lib/python3.8/site-packages/river/ensemble/adaptive_random_forest.py:1028\u001B[0m, in \u001B[0;36mForestMemberClassifier.predict_proba_one\u001B[0;34m(self, x)\u001B[0m\n\u001B[1;32m   1027\u001B[0m \u001B[38;5;28;01mdef\u001B[39;00m \u001B[38;5;21mpredict_proba_one\u001B[39m(\u001B[38;5;28mself\u001B[39m, x):\n\u001B[0;32m-> 1028\u001B[0m     \u001B[38;5;28;01mreturn\u001B[39;00m \u001B[38;5;28;43mself\u001B[39;49m\u001B[38;5;241;43m.\u001B[39;49m\u001B[43mmodel\u001B[49m\u001B[38;5;241;43m.\u001B[39;49m\u001B[43mpredict_proba_one\u001B[49m\u001B[43m(\u001B[49m\u001B[43mx\u001B[49m\u001B[43m)\u001B[49m\n",
      "File \u001B[0;32m~/UCU/Studying_abroad/NYU_Internship/Code/RAI-summer-stability/RAI_venv/lib/python3.8/site-packages/river/tree/hoeffding_tree_classifier.py:398\u001B[0m, in \u001B[0;36mHoeffdingTreeClassifier.predict_proba_one\u001B[0;34m(self, x)\u001B[0m\n\u001B[1;32m    397\u001B[0m \u001B[38;5;28;01mdef\u001B[39;00m \u001B[38;5;21mpredict_proba_one\u001B[39m(\u001B[38;5;28mself\u001B[39m, x):\n\u001B[0;32m--> 398\u001B[0m     proba \u001B[38;5;241m=\u001B[39m {c: \u001B[38;5;241m0.0\u001B[39m \u001B[38;5;28;01mfor\u001B[39;00m c \u001B[38;5;129;01min\u001B[39;00m \u001B[38;5;28;43msorted\u001B[39;49m\u001B[43m(\u001B[49m\u001B[38;5;28;43mself\u001B[39;49m\u001B[38;5;241;43m.\u001B[39;49m\u001B[43mclasses\u001B[49m\u001B[43m)\u001B[49m}\n\u001B[1;32m    399\u001B[0m     \u001B[38;5;28;01mif\u001B[39;00m \u001B[38;5;28mself\u001B[39m\u001B[38;5;241m.\u001B[39m_root \u001B[38;5;129;01mis\u001B[39;00m \u001B[38;5;129;01mnot\u001B[39;00m \u001B[38;5;28;01mNone\u001B[39;00m:\n\u001B[1;32m    400\u001B[0m         \u001B[38;5;28;01mif\u001B[39;00m \u001B[38;5;28misinstance\u001B[39m(\u001B[38;5;28mself\u001B[39m\u001B[38;5;241m.\u001B[39m_root, DTBranch):\n",
      "\u001B[0;31mTypeError\u001B[0m: '<' not supported between instances of 'NoneType' and 'str'"
     ]
    }
   ],
   "source": [
    "for idx, (x, y) in enumerate(bank_dataset):\n",
    "    # Obtain the prior prediction and update the model in one go\n",
    "    y_pred = model.predict_one(x)\n",
    "    model.learn_one(x, y)\n",
    "\n",
    "    # Update the error metric\n",
    "    metric.update(y, y_pred)\n",
    "    if (idx + 1) % 100:\n",
    "        print(metric)"
   ],
   "metadata": {
    "collapsed": false,
    "pycharm": {
     "name": "#%%\n"
    }
   }
  },
  {
   "cell_type": "code",
   "execution_count": 14,
   "outputs": [
    {
     "ename": "TypeError",
     "evalue": "'<' not supported between instances of 'NoneType' and 'str'",
     "output_type": "error",
     "traceback": [
      "\u001B[0;31m---------------------------------------------------------------------------\u001B[0m",
      "\u001B[0;31mTypeError\u001B[0m                                 Traceback (most recent call last)",
      "Input \u001B[0;32mIn [14]\u001B[0m, in \u001B[0;36m<cell line: 1>\u001B[0;34m()\u001B[0m\n\u001B[0;32m----> 1\u001B[0m \u001B[43mevaluate\u001B[49m\u001B[38;5;241;43m.\u001B[39;49m\u001B[43mprogressive_val_score\u001B[49m\u001B[43m(\u001B[49m\u001B[43mbank_dataset\u001B[49m\u001B[43m,\u001B[49m\u001B[43m \u001B[49m\u001B[43mmodel\u001B[49m\u001B[43m,\u001B[49m\u001B[43m \u001B[49m\u001B[43mmetric\u001B[49m\u001B[43m,\u001B[49m\u001B[43m \u001B[49m\u001B[43mprint_every\u001B[49m\u001B[38;5;241;43m=\u001B[39;49m\u001B[38;5;241;43m100\u001B[39;49m\u001B[43m)\u001B[49m\n",
      "File \u001B[0;32m~/UCU/Studying_abroad/NYU_Internship/Code/RAI-summer-stability/RAI_venv/lib/python3.8/site-packages/river/evaluate/progressive_validation.py:341\u001B[0m, in \u001B[0;36mprogressive_val_score\u001B[0;34m(dataset, model, metric, moment, delay, print_every, show_time, show_memory, **print_kwargs)\u001B[0m\n\u001B[1;32m    190\u001B[0m \u001B[38;5;124;03m\"\"\"Evaluates the performance of a model on a streaming dataset.\u001B[39;00m\n\u001B[1;32m    191\u001B[0m \n\u001B[1;32m    192\u001B[0m \u001B[38;5;124;03mThis method is the canonical way to evaluate a model's performance. When used correctly, it\u001B[39;00m\n\u001B[0;32m   (...)\u001B[0m\n\u001B[1;32m    327\u001B[0m \n\u001B[1;32m    328\u001B[0m \u001B[38;5;124;03m\"\"\"\u001B[39;00m\n\u001B[1;32m    330\u001B[0m checkpoints \u001B[38;5;241m=\u001B[39m iter_progressive_val_score(\n\u001B[1;32m    331\u001B[0m     dataset\u001B[38;5;241m=\u001B[39mdataset,\n\u001B[1;32m    332\u001B[0m     model\u001B[38;5;241m=\u001B[39mmodel,\n\u001B[0;32m   (...)\u001B[0m\n\u001B[1;32m    338\u001B[0m     measure_memory\u001B[38;5;241m=\u001B[39mshow_memory,\n\u001B[1;32m    339\u001B[0m )\n\u001B[0;32m--> 341\u001B[0m \u001B[38;5;28;01mfor\u001B[39;00m checkpoint \u001B[38;5;129;01min\u001B[39;00m checkpoints:\n\u001B[1;32m    343\u001B[0m     msg \u001B[38;5;241m=\u001B[39m \u001B[38;5;124mf\u001B[39m\u001B[38;5;124m\"\u001B[39m\u001B[38;5;124m[\u001B[39m\u001B[38;5;132;01m{\u001B[39;00mcheckpoint[\u001B[38;5;124m'\u001B[39m\u001B[38;5;124mStep\u001B[39m\u001B[38;5;124m'\u001B[39m]\u001B[38;5;132;01m:\u001B[39;00m\u001B[38;5;124m,d\u001B[39m\u001B[38;5;132;01m}\u001B[39;00m\u001B[38;5;124m] \u001B[39m\u001B[38;5;132;01m{\u001B[39;00mmetric\u001B[38;5;132;01m}\u001B[39;00m\u001B[38;5;124m\"\u001B[39m\n\u001B[1;32m    344\u001B[0m     \u001B[38;5;28;01mif\u001B[39;00m show_time:\n",
      "File \u001B[0;32m~/UCU/Studying_abroad/NYU_Internship/Code/RAI-summer-stability/RAI_venv/lib/python3.8/site-packages/river/evaluate/progressive_validation.py:167\u001B[0m, in \u001B[0;36miter_progressive_val_score\u001B[0;34m(dataset, model, metric, moment, delay, step, measure_time, measure_memory)\u001B[0m\n\u001B[1;32m     80\u001B[0m \u001B[38;5;28;01mdef\u001B[39;00m \u001B[38;5;21miter_progressive_val_score\u001B[39m(\n\u001B[1;32m     81\u001B[0m     dataset: base\u001B[38;5;241m.\u001B[39mtyping\u001B[38;5;241m.\u001B[39mDataset,\n\u001B[1;32m     82\u001B[0m     model,\n\u001B[0;32m   (...)\u001B[0m\n\u001B[1;32m     88\u001B[0m     measure_memory\u001B[38;5;241m=\u001B[39m\u001B[38;5;28;01mFalse\u001B[39;00m,\n\u001B[1;32m     89\u001B[0m ) \u001B[38;5;241m-\u001B[39m\u001B[38;5;241m>\u001B[39m typing\u001B[38;5;241m.\u001B[39mGenerator:\n\u001B[1;32m     90\u001B[0m     \u001B[38;5;124;03m\"\"\"Evaluates the performance of a model on a streaming dataset and yields results.\u001B[39;00m\n\u001B[1;32m     91\u001B[0m \n\u001B[1;32m     92\u001B[0m \u001B[38;5;124;03m    This does exactly the same as `evaluate.progressive_val_score`. The only difference is that\u001B[39;00m\n\u001B[0;32m   (...)\u001B[0m\n\u001B[1;32m    164\u001B[0m \n\u001B[1;32m    165\u001B[0m \u001B[38;5;124;03m    \"\"\"\u001B[39;00m\n\u001B[0;32m--> 167\u001B[0m     \u001B[38;5;28;01myield from\u001B[39;00m _progressive_validation(\n\u001B[1;32m    168\u001B[0m         dataset,\n\u001B[1;32m    169\u001B[0m         model,\n\u001B[1;32m    170\u001B[0m         metric,\n\u001B[1;32m    171\u001B[0m         checkpoints\u001B[38;5;241m=\u001B[39mitertools\u001B[38;5;241m.\u001B[39mcount(step, step) \u001B[38;5;28;01mif\u001B[39;00m step \u001B[38;5;28;01melse\u001B[39;00m \u001B[38;5;28miter\u001B[39m([]),\n\u001B[1;32m    172\u001B[0m         moment\u001B[38;5;241m=\u001B[39mmoment,\n\u001B[1;32m    173\u001B[0m         delay\u001B[38;5;241m=\u001B[39mdelay,\n\u001B[1;32m    174\u001B[0m         measure_time\u001B[38;5;241m=\u001B[39mmeasure_time,\n\u001B[1;32m    175\u001B[0m         measure_memory\u001B[38;5;241m=\u001B[39mmeasure_memory,\n\u001B[1;32m    176\u001B[0m     )\n",
      "File \u001B[0;32m~/UCU/Studying_abroad/NYU_Internship/Code/RAI-summer-stability/RAI_venv/lib/python3.8/site-packages/river/evaluate/progressive_validation.py:59\u001B[0m, in \u001B[0;36m_progressive_validation\u001B[0;34m(dataset, model, metric, checkpoints, moment, delay, measure_time, measure_memory)\u001B[0m\n\u001B[1;32m     57\u001B[0m \u001B[38;5;66;03m# Update the model\u001B[39;00m\n\u001B[1;32m     58\u001B[0m \u001B[38;5;28;01mif\u001B[39;00m model\u001B[38;5;241m.\u001B[39m_supervised:\n\u001B[0;32m---> 59\u001B[0m     \u001B[43mmodel\u001B[49m\u001B[38;5;241;43m.\u001B[39;49m\u001B[43mlearn_one\u001B[49m\u001B[43m(\u001B[49m\u001B[43mx\u001B[49m\u001B[38;5;241;43m=\u001B[39;49m\u001B[43mx\u001B[49m\u001B[43m,\u001B[49m\u001B[43m \u001B[49m\u001B[43my\u001B[49m\u001B[38;5;241;43m=\u001B[39;49m\u001B[43my\u001B[49m\u001B[43m,\u001B[49m\u001B[43m \u001B[49m\u001B[38;5;241;43m*\u001B[39;49m\u001B[38;5;241;43m*\u001B[39;49m\u001B[43mkwargs\u001B[49m\u001B[43m)\u001B[49m\n\u001B[1;32m     60\u001B[0m \u001B[38;5;28;01melse\u001B[39;00m:\n\u001B[1;32m     61\u001B[0m     model\u001B[38;5;241m.\u001B[39mlearn_one(x\u001B[38;5;241m=\u001B[39mx, \u001B[38;5;241m*\u001B[39m\u001B[38;5;241m*\u001B[39mkwargs)\n",
      "File \u001B[0;32m~/UCU/Studying_abroad/NYU_Internship/Code/RAI-summer-stability/RAI_venv/lib/python3.8/site-packages/river/compose/pipeline.py:533\u001B[0m, in \u001B[0;36mPipeline.learn_one\u001B[0;34m(self, x, y, **params)\u001B[0m\n\u001B[1;32m    531\u001B[0m last_step \u001B[38;5;241m=\u001B[39m \u001B[38;5;28mnext\u001B[39m(steps)\n\u001B[1;32m    532\u001B[0m \u001B[38;5;28;01mif\u001B[39;00m last_step\u001B[38;5;241m.\u001B[39m_supervised:\n\u001B[0;32m--> 533\u001B[0m     \u001B[43mlast_step\u001B[49m\u001B[38;5;241;43m.\u001B[39;49m\u001B[43mlearn_one\u001B[49m\u001B[43m(\u001B[49m\u001B[43mx\u001B[49m\u001B[38;5;241;43m=\u001B[39;49m\u001B[43mx\u001B[49m\u001B[43m,\u001B[49m\u001B[43m \u001B[49m\u001B[43my\u001B[49m\u001B[38;5;241;43m=\u001B[39;49m\u001B[43my\u001B[49m\u001B[43m,\u001B[49m\u001B[43m \u001B[49m\u001B[38;5;241;43m*\u001B[39;49m\u001B[38;5;241;43m*\u001B[39;49m\u001B[43mparams\u001B[49m\u001B[43m)\u001B[49m\n\u001B[1;32m    534\u001B[0m \u001B[38;5;28;01melse\u001B[39;00m:\n\u001B[1;32m    535\u001B[0m     last_step\u001B[38;5;241m.\u001B[39mlearn_one(x, \u001B[38;5;241m*\u001B[39m\u001B[38;5;241m*\u001B[39mparams)\n",
      "File \u001B[0;32m~/UCU/Studying_abroad/NYU_Internship/Code/RAI-summer-stability/RAI_venv/lib/python3.8/site-packages/river/ensemble/adaptive_random_forest.py:81\u001B[0m, in \u001B[0;36mBaseForest.learn_one\u001B[0;34m(self, x, y, **kwargs)\u001B[0m\n\u001B[1;32m     79\u001B[0m     k \u001B[38;5;241m=\u001B[39m poisson(rate\u001B[38;5;241m=\u001B[39m\u001B[38;5;28mself\u001B[39m\u001B[38;5;241m.\u001B[39mlambda_value, rng\u001B[38;5;241m=\u001B[39m\u001B[38;5;28mself\u001B[39m\u001B[38;5;241m.\u001B[39m_rng)\n\u001B[1;32m     80\u001B[0m     \u001B[38;5;28;01mif\u001B[39;00m k \u001B[38;5;241m>\u001B[39m \u001B[38;5;241m0\u001B[39m:\n\u001B[0;32m---> 81\u001B[0m         \u001B[43mmodel\u001B[49m\u001B[38;5;241;43m.\u001B[39;49m\u001B[43mlearn_one\u001B[49m\u001B[43m(\u001B[49m\u001B[43mx\u001B[49m\u001B[38;5;241;43m=\u001B[39;49m\u001B[43mx\u001B[49m\u001B[43m,\u001B[49m\u001B[43m \u001B[49m\u001B[43my\u001B[49m\u001B[38;5;241;43m=\u001B[39;49m\u001B[43my\u001B[49m\u001B[43m,\u001B[49m\u001B[43m \u001B[49m\u001B[43msample_weight\u001B[49m\u001B[38;5;241;43m=\u001B[39;49m\u001B[43mk\u001B[49m\u001B[43m,\u001B[49m\u001B[43m \u001B[49m\u001B[43mn_samples_seen\u001B[49m\u001B[38;5;241;43m=\u001B[39;49m\u001B[38;5;28;43mself\u001B[39;49m\u001B[38;5;241;43m.\u001B[39;49m\u001B[43m_n_samples_seen\u001B[49m\u001B[43m)\u001B[49m\n\u001B[1;32m     83\u001B[0m \u001B[38;5;28;01mreturn\u001B[39;00m \u001B[38;5;28mself\u001B[39m\n",
      "File \u001B[0;32m~/UCU/Studying_abroad/NYU_Internship/Code/RAI-summer-stability/RAI_venv/lib/python3.8/site-packages/river/ensemble/adaptive_random_forest.py:955\u001B[0m, in \u001B[0;36mBaseForestMember.learn_one\u001B[0;34m(self, x, y, sample_weight, n_samples_seen)\u001B[0m\n\u001B[1;32m    951\u001B[0m     \u001B[38;5;28mself\u001B[39m\u001B[38;5;241m.\u001B[39mbackground_learner\u001B[38;5;241m.\u001B[39mmodel\u001B[38;5;241m.\u001B[39mlearn_one(x\u001B[38;5;241m=\u001B[39mx, y\u001B[38;5;241m=\u001B[39my, sample_weight\u001B[38;5;241m=\u001B[39msample_weight)\n\u001B[1;32m    953\u001B[0m \u001B[38;5;28;01mif\u001B[39;00m \u001B[38;5;28mself\u001B[39m\u001B[38;5;241m.\u001B[39m_use_drift_detector \u001B[38;5;129;01mand\u001B[39;00m \u001B[38;5;129;01mnot\u001B[39;00m \u001B[38;5;28mself\u001B[39m\u001B[38;5;241m.\u001B[39mis_background_learner:\n\u001B[1;32m    954\u001B[0m     drift_detector_input \u001B[38;5;241m=\u001B[39m \u001B[38;5;28mself\u001B[39m\u001B[38;5;241m.\u001B[39m_drift_detector_input(\n\u001B[0;32m--> 955\u001B[0m         y_true\u001B[38;5;241m=\u001B[39my, y_pred\u001B[38;5;241m=\u001B[39m\u001B[38;5;28;43mself\u001B[39;49m\u001B[38;5;241;43m.\u001B[39;49m\u001B[43mmodel\u001B[49m\u001B[38;5;241;43m.\u001B[39;49m\u001B[43mpredict_one\u001B[49m\u001B[43m(\u001B[49m\u001B[43mx\u001B[49m\u001B[43m)\u001B[49m  \u001B[38;5;66;03m# type: ignore\u001B[39;00m\n\u001B[1;32m    956\u001B[0m     )\n\u001B[1;32m    958\u001B[0m     \u001B[38;5;66;03m# Check for warning only if use_background_learner is set\u001B[39;00m\n\u001B[1;32m    959\u001B[0m     \u001B[38;5;28;01mif\u001B[39;00m \u001B[38;5;28mself\u001B[39m\u001B[38;5;241m.\u001B[39m_use_background_learner:\n",
      "File \u001B[0;32m~/UCU/Studying_abroad/NYU_Internship/Code/RAI-summer-stability/RAI_venv/lib/python3.8/site-packages/river/base/classifier.py:68\u001B[0m, in \u001B[0;36mClassifier.predict_one\u001B[0;34m(self, x)\u001B[0m\n\u001B[1;32m     53\u001B[0m \u001B[38;5;124;03m\"\"\"Predict the label of a set of features `x`.\u001B[39;00m\n\u001B[1;32m     54\u001B[0m \n\u001B[1;32m     55\u001B[0m \u001B[38;5;124;03mParameters\u001B[39;00m\n\u001B[0;32m   (...)\u001B[0m\n\u001B[1;32m     63\u001B[0m \n\u001B[1;32m     64\u001B[0m \u001B[38;5;124;03m\"\"\"\u001B[39;00m\n\u001B[1;32m     66\u001B[0m \u001B[38;5;66;03m# The following code acts as a default for each classifier, and may be overridden on an\u001B[39;00m\n\u001B[1;32m     67\u001B[0m \u001B[38;5;66;03m# individual basis.\u001B[39;00m\n\u001B[0;32m---> 68\u001B[0m y_pred \u001B[38;5;241m=\u001B[39m \u001B[38;5;28;43mself\u001B[39;49m\u001B[38;5;241;43m.\u001B[39;49m\u001B[43mpredict_proba_one\u001B[49m\u001B[43m(\u001B[49m\u001B[43mx\u001B[49m\u001B[43m)\u001B[49m\n\u001B[1;32m     69\u001B[0m \u001B[38;5;28;01mif\u001B[39;00m y_pred:\n\u001B[1;32m     70\u001B[0m     \u001B[38;5;28;01mreturn\u001B[39;00m \u001B[38;5;28mmax\u001B[39m(y_pred, key\u001B[38;5;241m=\u001B[39my_pred\u001B[38;5;241m.\u001B[39mget)  \u001B[38;5;66;03m# type: ignore\u001B[39;00m\n",
      "File \u001B[0;32m~/UCU/Studying_abroad/NYU_Internship/Code/RAI-summer-stability/RAI_venv/lib/python3.8/site-packages/river/tree/hoeffding_tree_classifier.py:398\u001B[0m, in \u001B[0;36mHoeffdingTreeClassifier.predict_proba_one\u001B[0;34m(self, x)\u001B[0m\n\u001B[1;32m    397\u001B[0m \u001B[38;5;28;01mdef\u001B[39;00m \u001B[38;5;21mpredict_proba_one\u001B[39m(\u001B[38;5;28mself\u001B[39m, x):\n\u001B[0;32m--> 398\u001B[0m     proba \u001B[38;5;241m=\u001B[39m {c: \u001B[38;5;241m0.0\u001B[39m \u001B[38;5;28;01mfor\u001B[39;00m c \u001B[38;5;129;01min\u001B[39;00m \u001B[38;5;28;43msorted\u001B[39;49m\u001B[43m(\u001B[49m\u001B[38;5;28;43mself\u001B[39;49m\u001B[38;5;241;43m.\u001B[39;49m\u001B[43mclasses\u001B[49m\u001B[43m)\u001B[49m}\n\u001B[1;32m    399\u001B[0m     \u001B[38;5;28;01mif\u001B[39;00m \u001B[38;5;28mself\u001B[39m\u001B[38;5;241m.\u001B[39m_root \u001B[38;5;129;01mis\u001B[39;00m \u001B[38;5;129;01mnot\u001B[39;00m \u001B[38;5;28;01mNone\u001B[39;00m:\n\u001B[1;32m    400\u001B[0m         \u001B[38;5;28;01mif\u001B[39;00m \u001B[38;5;28misinstance\u001B[39m(\u001B[38;5;28mself\u001B[39m\u001B[38;5;241m.\u001B[39m_root, DTBranch):\n",
      "\u001B[0;31mTypeError\u001B[0m: '<' not supported between instances of 'NoneType' and 'str'"
     ]
    }
   ],
   "source": [
    "evaluate.progressive_val_score(bank_dataset, model, metric, print_every=100)"
   ],
   "metadata": {
    "collapsed": false,
    "pycharm": {
     "name": "#%%\n"
    }
   }
  },
  {
   "cell_type": "code",
   "execution_count": null,
   "outputs": [],
   "source": [],
   "metadata": {
    "collapsed": false,
    "pycharm": {
     "name": "#%%\n"
    }
   }
  }
 ],
 "metadata": {
  "kernelspec": {
   "display_name": "Python 3",
   "language": "python",
   "name": "python3"
  },
  "language_info": {
   "codemirror_mode": {
    "name": "ipython",
    "version": 2
   },
   "file_extension": ".py",
   "mimetype": "text/x-python",
   "name": "python",
   "nbconvert_exporter": "python",
   "pygments_lexer": "ipython2",
   "version": "2.7.6"
  }
 },
 "nbformat": 4,
 "nbformat_minor": 0
}