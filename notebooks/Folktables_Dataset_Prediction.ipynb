{
 "cells": [
  {
   "cell_type": "code",
   "execution_count": 1,
   "outputs": [],
   "source": [
    "%matplotlib inline\n",
    "%load_ext autoreload\n",
    "%autoreload 2"
   ],
   "metadata": {
    "collapsed": false,
    "pycharm": {
     "name": "#%%\n"
    }
   }
  },
  {
   "cell_type": "code",
   "execution_count": 2,
   "outputs": [],
   "source": [
    "import collections\n",
    "import pandas as pd\n",
    "import seaborn as sns\n",
    "import matplotlib.pyplot as plt\n",
    "\n",
    "from river import ensemble\n",
    "from river import compose\n",
    "from river import preprocessing\n",
    "from river import tree\n",
    "\n",
    "from source.bank_dataset import BankDataset\n",
    "from source.river_utils import evaluate_binary_model"
   ],
   "metadata": {
    "collapsed": false,
    "pycharm": {
     "name": "#%%\n"
    }
   }
  },
  {
   "cell_type": "code",
   "execution_count": 3,
   "outputs": [],
   "source": [
    "sns.set(rc={'figure.figsize':(15, 5)})"
   ],
   "metadata": {
    "collapsed": false,
    "pycharm": {
     "name": "#%%\n"
    }
   }
  },
  {
   "cell_type": "code",
   "execution_count": 4,
   "outputs": [
    {
     "data": {
      "text/plain": "   AGEP  SCHL  MAR  RELP  DIS  ESP  CIT  MIG  MIL  ANC  NATIVITY  DEAR  DEYE  \\\n0    26  21.0    5    17    2  0.0    5  1.0  4.0    1         2     2     2   \n1    21  20.0    5    17    2  0.0    1  3.0  4.0    1         1     2     2   \n2    18  16.0    5    17    2  0.0    2  3.0  4.0    1         1     2     2   \n3    85  16.0    2    16    1  0.0    1  1.0  4.0    4         1     1     2   \n4    19  19.0    5    17    2  0.0    1  1.0  4.0    2         1     2     2   \n\n   DREM  SEX  RAC1P  ESR  \n0   2.0    2      1    0  \n1   2.0    1      1    1  \n2   2.0    2      8    0  \n3   1.0    2      1    0  \n4   2.0    2      1    1  ",
      "text/html": "<div>\n<style scoped>\n    .dataframe tbody tr th:only-of-type {\n        vertical-align: middle;\n    }\n\n    .dataframe tbody tr th {\n        vertical-align: top;\n    }\n\n    .dataframe thead th {\n        text-align: right;\n    }\n</style>\n<table border=\"1\" class=\"dataframe\">\n  <thead>\n    <tr style=\"text-align: right;\">\n      <th></th>\n      <th>AGEP</th>\n      <th>SCHL</th>\n      <th>MAR</th>\n      <th>RELP</th>\n      <th>DIS</th>\n      <th>ESP</th>\n      <th>CIT</th>\n      <th>MIG</th>\n      <th>MIL</th>\n      <th>ANC</th>\n      <th>NATIVITY</th>\n      <th>DEAR</th>\n      <th>DEYE</th>\n      <th>DREM</th>\n      <th>SEX</th>\n      <th>RAC1P</th>\n      <th>ESR</th>\n    </tr>\n  </thead>\n  <tbody>\n    <tr>\n      <th>0</th>\n      <td>26</td>\n      <td>21.0</td>\n      <td>5</td>\n      <td>17</td>\n      <td>2</td>\n      <td>0.0</td>\n      <td>5</td>\n      <td>1.0</td>\n      <td>4.0</td>\n      <td>1</td>\n      <td>2</td>\n      <td>2</td>\n      <td>2</td>\n      <td>2.0</td>\n      <td>2</td>\n      <td>1</td>\n      <td>0</td>\n    </tr>\n    <tr>\n      <th>1</th>\n      <td>21</td>\n      <td>20.0</td>\n      <td>5</td>\n      <td>17</td>\n      <td>2</td>\n      <td>0.0</td>\n      <td>1</td>\n      <td>3.0</td>\n      <td>4.0</td>\n      <td>1</td>\n      <td>1</td>\n      <td>2</td>\n      <td>2</td>\n      <td>2.0</td>\n      <td>1</td>\n      <td>1</td>\n      <td>1</td>\n    </tr>\n    <tr>\n      <th>2</th>\n      <td>18</td>\n      <td>16.0</td>\n      <td>5</td>\n      <td>17</td>\n      <td>2</td>\n      <td>0.0</td>\n      <td>2</td>\n      <td>3.0</td>\n      <td>4.0</td>\n      <td>1</td>\n      <td>1</td>\n      <td>2</td>\n      <td>2</td>\n      <td>2.0</td>\n      <td>2</td>\n      <td>8</td>\n      <td>0</td>\n    </tr>\n    <tr>\n      <th>3</th>\n      <td>85</td>\n      <td>16.0</td>\n      <td>2</td>\n      <td>16</td>\n      <td>1</td>\n      <td>0.0</td>\n      <td>1</td>\n      <td>1.0</td>\n      <td>4.0</td>\n      <td>4</td>\n      <td>1</td>\n      <td>1</td>\n      <td>2</td>\n      <td>1.0</td>\n      <td>2</td>\n      <td>1</td>\n      <td>0</td>\n    </tr>\n    <tr>\n      <th>4</th>\n      <td>19</td>\n      <td>19.0</td>\n      <td>5</td>\n      <td>17</td>\n      <td>2</td>\n      <td>0.0</td>\n      <td>1</td>\n      <td>1.0</td>\n      <td>4.0</td>\n      <td>2</td>\n      <td>1</td>\n      <td>2</td>\n      <td>2</td>\n      <td>2.0</td>\n      <td>2</td>\n      <td>1</td>\n      <td>1</td>\n    </tr>\n  </tbody>\n</table>\n</div>"
     },
     "execution_count": 4,
     "metadata": {},
     "output_type": "execute_result"
    }
   ],
   "source": [
    "# Creating a data frame\n",
    "df = pd.read_csv(\"../datasets/folktables-NY-2018.csv\", delimiter=',')\n",
    "df.head()"
   ],
   "metadata": {
    "collapsed": false,
    "pycharm": {
     "name": "#%%\n"
    }
   }
  },
  {
   "cell_type": "code",
   "execution_count": 6,
   "outputs": [
    {
     "data": {
      "text/plain": "Index(['AGEP', 'SCHL', 'MAR', 'RELP', 'DIS', 'ESP', 'CIT', 'MIG', 'MIL', 'ANC',\n       'NATIVITY', 'DEAR', 'DEYE', 'DREM', 'SEX', 'RAC1P', 'ESR'],\n      dtype='object')"
     },
     "execution_count": 6,
     "metadata": {},
     "output_type": "execute_result"
    }
   ],
   "source": [
    "df.columns"
   ],
   "metadata": {
    "collapsed": false,
    "pycharm": {
     "name": "#%%\n"
    }
   }
  },
  {
   "cell_type": "code",
   "execution_count": 5,
   "outputs": [
    {
     "data": {
      "text/plain": "0    105498\n1     91469\nName: ESR, dtype: int64"
     },
     "execution_count": 5,
     "metadata": {},
     "output_type": "execute_result"
    }
   ],
   "source": [
    "df['ESR'].value_counts()"
   ],
   "metadata": {
    "collapsed": false,
    "pycharm": {
     "name": "#%%\n"
    }
   }
  },
  {
   "cell_type": "code",
   "execution_count": 217,
   "outputs": [
    {
     "name": "stdout",
     "output_type": "stream",
     "text": [
      "no: 36548 (88.73458%)\n",
      "yes: 4640 (11.26542%)\n"
     ]
    }
   ],
   "source": [
    "dataset = BankDataset()\n",
    "counts = collections.Counter(y for _, y in dataset)\n",
    "\n",
    "for c, count in counts.items():\n",
    "    print(f'{c}: {count} ({count / sum(counts.values()):.5%})')"
   ],
   "metadata": {
    "collapsed": false,
    "pycharm": {
     "name": "#%%\n"
    }
   }
  },
  {
   "cell_type": "markdown",
   "source": [
    "### Predict with River classification models"
   ],
   "metadata": {
    "collapsed": false
   }
  },
  {
   "cell_type": "markdown",
   "source": [
    "#### Apply data transformations"
   ],
   "metadata": {
    "collapsed": false
   }
  },
  {
   "cell_type": "code",
   "execution_count": 218,
   "outputs": [
    {
     "name": "stdout",
     "output_type": "stream",
     "text": [
      "Initial features: {'age': 56, 'job': 'housemaid', 'marital': 'married', 'education': 'basic.4y', 'default': 'no', 'housing': 'no', 'loan': 'no', 'contact': 'telephone', 'month': 'may', 'day_of_week': 'mon', 'duration': 261, 'campaign': 1, 'pdays': 999, 'previous': 0, 'poutcome': 'nonexistent', 'emp.var.rate': 1.1, 'cons.price.idx': 93.994, 'cons.conf.idx': -36.4, 'euribor3m': 4.857, 'nr.employed': 5191.0}\n",
      "\n",
      "Transformed features: {'nr.employed': 0.0, 'euribor3m': 0.0, 'cons.conf.idx': 0.0, 'cons.price.idx': 0.0, 'emp.var.rate': 0.0, 'previous': 0.0, 'pdays': 0.0, 'campaign': 0.0, 'duration': 0.0, 'age': 0.0, 'poutcome_nonexistent': 0.0, 'loan_no': 0.0, 'housing_no': 0.0, 'education_basic.4y': 0.0, 'marital_married': 0.0, 'job_housemaid': 0.0}\n",
      "\n",
      "\n",
      "Initial features: {'age': 57, 'job': 'services', 'marital': 'married', 'education': 'high.school', 'default': 'unknown', 'housing': 'no', 'loan': 'no', 'contact': 'telephone', 'month': 'may', 'day_of_week': 'mon', 'duration': 149, 'campaign': 1, 'pdays': 999, 'previous': 0, 'poutcome': 'nonexistent', 'emp.var.rate': 1.1, 'cons.price.idx': 93.994, 'cons.conf.idx': -36.4, 'euribor3m': 4.857, 'nr.employed': 5191.0}\n",
      "\n",
      "Transformed features: {'nr.employed': 0.0, 'euribor3m': 0.0, 'cons.conf.idx': 0.0, 'cons.price.idx': 0.0, 'emp.var.rate': 0.0, 'previous': 0.0, 'pdays': 0.0, 'campaign': 0.0, 'duration': 0.0, 'age': 1.0, 'poutcome_nonexistent': 0.0, 'loan_no': 0.0, 'housing_no': 0.0, 'education_basic.4y': 0.0, 'education_high.school': 0.0, 'marital_married': 0.0, 'job_housemaid': 0.0, 'job_services': 0.0}\n",
      "\n",
      "\n",
      "Initial features: {'age': 37, 'job': 'services', 'marital': 'married', 'education': 'high.school', 'default': 'no', 'housing': 'yes', 'loan': 'no', 'contact': 'telephone', 'month': 'may', 'day_of_week': 'mon', 'duration': 226, 'campaign': 1, 'pdays': 999, 'previous': 0, 'poutcome': 'nonexistent', 'emp.var.rate': 1.1, 'cons.price.idx': 93.994, 'cons.conf.idx': -36.4, 'euribor3m': 4.857, 'nr.employed': 5191.0}\n",
      "\n",
      "Transformed features: {'nr.employed': 0.0, 'euribor3m': 0.0, 'cons.conf.idx': 0.0, 'cons.price.idx': 0.0, 'emp.var.rate': 0.0, 'previous': 0.0, 'pdays': 0.0, 'campaign': 0.0, 'duration': 0.6875, 'age': 0.0, 'poutcome_nonexistent': 0.0, 'loan_no': 0.0, 'housing_no': 0.0, 'housing_yes': 0.0, 'education_basic.4y': 0.0, 'education_high.school': 0.0, 'marital_married': 0.0, 'job_housemaid': 0.0, 'job_services': 0.0}\n",
      "\n",
      "\n",
      "Initial features: {'age': 40, 'job': 'admin.', 'marital': 'married', 'education': 'basic.6y', 'default': 'no', 'housing': 'no', 'loan': 'no', 'contact': 'telephone', 'month': 'may', 'day_of_week': 'mon', 'duration': 151, 'campaign': 1, 'pdays': 999, 'previous': 0, 'poutcome': 'nonexistent', 'emp.var.rate': 1.1, 'cons.price.idx': 93.994, 'cons.conf.idx': -36.4, 'euribor3m': 4.857, 'nr.employed': 5191.0}\n",
      "\n",
      "Transformed features: {'nr.employed': 0.0, 'euribor3m': 0.0, 'cons.conf.idx': 0.0, 'cons.price.idx': 0.0, 'emp.var.rate': 0.0, 'previous': 0.0, 'pdays': 0.0, 'campaign': 0.0, 'duration': 0.017857142857142856, 'age': 0.15, 'poutcome_nonexistent': 0.0, 'loan_no': 0.0, 'housing_no': 1.0, 'housing_yes': 0.0, 'education_basic.6y': 0.0, 'education_basic.4y': 0.0, 'education_high.school': 0.0, 'marital_married': 0.0, 'job_housemaid': 0.0, 'job_services': 0.0, 'job_admin.': 0.0}\n",
      "\n",
      "\n",
      "Initial features: {'age': 56, 'job': 'services', 'marital': 'married', 'education': 'high.school', 'default': 'no', 'housing': 'no', 'loan': 'yes', 'contact': 'telephone', 'month': 'may', 'day_of_week': 'mon', 'duration': 307, 'campaign': 1, 'pdays': 999, 'previous': 0, 'poutcome': 'nonexistent', 'emp.var.rate': 1.1, 'cons.price.idx': 93.994, 'cons.conf.idx': -36.4, 'euribor3m': 4.857, 'nr.employed': 5191.0}\n",
      "\n",
      "Transformed features: {'nr.employed': 0.0, 'euribor3m': 0.0, 'cons.conf.idx': 0.0, 'cons.price.idx': 0.0, 'emp.var.rate': 0.0, 'previous': 0.0, 'pdays': 0.0, 'campaign': 0.0, 'duration': 1.0, 'age': 0.95, 'poutcome_nonexistent': 0.0, 'loan_no': 0.0, 'loan_yes': 0.0, 'housing_no': 1.0, 'housing_yes': 0.0, 'education_basic.6y': 0.0, 'education_basic.4y': 0.0, 'education_high.school': 1.0, 'marital_married': 0.0, 'job_housemaid': 0.0, 'job_services': 1.0, 'job_admin.': 0.0}\n",
      "\n",
      "\n",
      "Initial features: {'age': 45, 'job': 'services', 'marital': 'married', 'education': 'basic.9y', 'default': 'unknown', 'housing': 'no', 'loan': 'no', 'contact': 'telephone', 'month': 'may', 'day_of_week': 'mon', 'duration': 198, 'campaign': 1, 'pdays': 999, 'previous': 0, 'poutcome': 'nonexistent', 'emp.var.rate': 1.1, 'cons.price.idx': 93.994, 'cons.conf.idx': -36.4, 'euribor3m': 4.857, 'nr.employed': 5191.0}\n",
      "\n",
      "Transformed features: {'nr.employed': 0.0, 'euribor3m': 0.0, 'cons.conf.idx': 0.0, 'cons.price.idx': 0.0, 'emp.var.rate': 0.0, 'previous': 0.0, 'pdays': 0.0, 'campaign': 0.0, 'duration': 0.310126582278481, 'age': 0.4, 'poutcome_nonexistent': 0.0, 'loan_no': 1.0, 'loan_yes': 0.0, 'housing_no': 1.0, 'housing_yes': 0.0, 'education_basic.6y': 0.0, 'education_basic.4y': 0.0, 'education_basic.9y': 0.0, 'education_high.school': 0.0, 'marital_married': 0.0, 'job_housemaid': 0.0, 'job_services': 1.0, 'job_admin.': 0.0}\n",
      "\n",
      "\n",
      "Initial features: {'age': 59, 'job': 'admin.', 'marital': 'married', 'education': 'professional.course', 'default': 'no', 'housing': 'no', 'loan': 'no', 'contact': 'telephone', 'month': 'may', 'day_of_week': 'mon', 'duration': 139, 'campaign': 1, 'pdays': 999, 'previous': 0, 'poutcome': 'nonexistent', 'emp.var.rate': 1.1, 'cons.price.idx': 93.994, 'cons.conf.idx': -36.4, 'euribor3m': 4.857, 'nr.employed': 5191.0}\n",
      "\n",
      "Transformed features: {'nr.employed': 0.0, 'euribor3m': 0.0, 'cons.conf.idx': 0.0, 'cons.price.idx': 0.0, 'emp.var.rate': 0.0, 'previous': 0.0, 'pdays': 0.0, 'campaign': 0.0, 'duration': 0.0, 'age': 1.0, 'poutcome_nonexistent': 0.0, 'loan_no': 1.0, 'loan_yes': 0.0, 'housing_no': 1.0, 'housing_yes': 0.0, 'education_basic.9y': 0.0, 'education_professional.course': 0.0, 'education_basic.6y': 0.0, 'education_basic.4y': 0.0, 'education_high.school': 0.0, 'marital_married': 0.0, 'job_housemaid': 0.0, 'job_services': 0.0, 'job_admin.': 1.0}\n",
      "\n",
      "\n",
      "Initial features: {'age': 41, 'job': 'blue-collar', 'marital': 'married', 'education': 'unknown', 'default': 'unknown', 'housing': 'no', 'loan': 'no', 'contact': 'telephone', 'month': 'may', 'day_of_week': 'mon', 'duration': 217, 'campaign': 1, 'pdays': 999, 'previous': 0, 'poutcome': 'nonexistent', 'emp.var.rate': 1.1, 'cons.price.idx': 93.994, 'cons.conf.idx': -36.4, 'euribor3m': 4.857, 'nr.employed': 5191.0}\n",
      "\n",
      "Transformed features: {'nr.employed': 0.0, 'euribor3m': 0.0, 'cons.conf.idx': 0.0, 'cons.price.idx': 0.0, 'emp.var.rate': 0.0, 'previous': 0.0, 'pdays': 0.0, 'campaign': 0.0, 'duration': 0.4642857142857143, 'age': 0.18181818181818182, 'poutcome_nonexistent': 0.0, 'loan_no': 1.0, 'loan_yes': 0.0, 'housing_no': 1.0, 'housing_yes': 0.0, 'education_unknown': 0.0, 'education_basic.9y': 0.0, 'education_professional.course': 0.0, 'education_basic.6y': 0.0, 'education_basic.4y': 0.0, 'education_high.school': 0.0, 'marital_married': 0.0, 'job_housemaid': 0.0, 'job_services': 0.0, 'job_admin.': 0.0, 'job_blue-collar': 0.0}\n",
      "\n",
      "\n",
      "Initial features: {'age': 24, 'job': 'technician', 'marital': 'single', 'education': 'professional.course', 'default': 'no', 'housing': 'yes', 'loan': 'no', 'contact': 'telephone', 'month': 'may', 'day_of_week': 'mon', 'duration': 380, 'campaign': 1, 'pdays': 999, 'previous': 0, 'poutcome': 'nonexistent', 'emp.var.rate': 1.1, 'cons.price.idx': 93.994, 'cons.conf.idx': -36.4, 'euribor3m': 4.857, 'nr.employed': 5191.0}\n",
      "\n",
      "Transformed features: {'nr.employed': 0.0, 'euribor3m': 0.0, 'cons.conf.idx': 0.0, 'cons.price.idx': 0.0, 'emp.var.rate': 0.0, 'previous': 0.0, 'pdays': 0.0, 'campaign': 0.0, 'duration': 1.0, 'age': 0.0, 'poutcome_nonexistent': 0.0, 'loan_no': 1.0, 'loan_yes': 0.0, 'housing_no': 0.0, 'housing_yes': 1.0, 'education_unknown': 0.0, 'education_basic.9y': 0.0, 'education_professional.course': 1.0, 'education_basic.6y': 0.0, 'education_basic.4y': 0.0, 'education_high.school': 0.0, 'marital_single': 0.0, 'marital_married': 0.0, 'job_admin.': 0.0, 'job_technician': 0.0, 'job_housemaid': 0.0, 'job_services': 0.0, 'job_blue-collar': 0.0}\n",
      "\n",
      "\n",
      "Initial features: {'age': 25, 'job': 'services', 'marital': 'single', 'education': 'high.school', 'default': 'no', 'housing': 'yes', 'loan': 'no', 'contact': 'telephone', 'month': 'may', 'day_of_week': 'mon', 'duration': 50, 'campaign': 1, 'pdays': 999, 'previous': 0, 'poutcome': 'nonexistent', 'emp.var.rate': 1.1, 'cons.price.idx': 93.994, 'cons.conf.idx': -36.4, 'euribor3m': 4.857, 'nr.employed': 5191.0}\n",
      "\n",
      "Transformed features: {'nr.employed': 0.0, 'euribor3m': 0.0, 'cons.conf.idx': 0.0, 'cons.price.idx': 0.0, 'emp.var.rate': 0.0, 'previous': 0.0, 'pdays': 0.0, 'campaign': 0.0, 'duration': 0.0, 'age': 0.02857142857142857, 'poutcome_nonexistent': 0.0, 'loan_no': 1.0, 'loan_yes': 0.0, 'housing_no': 0.0, 'housing_yes': 1.0, 'education_unknown': 0.0, 'education_basic.9y': 0.0, 'education_professional.course': 0.0, 'education_basic.6y': 0.0, 'education_basic.4y': 0.0, 'education_high.school': 1.0, 'marital_single': 0.0, 'marital_married': 0.0, 'job_admin.': 0.0, 'job_technician': 0.0, 'job_housemaid': 0.0, 'job_services': 1.0, 'job_blue-collar': 0.0}\n",
      "\n",
      "\n"
     ]
    }
   ],
   "source": [
    "categorical_features = ['job', 'marital', 'education', 'default', 'housing', 'loan', 'contact', 'month', 'day_of_week', 'poutcome']\n",
    "selected_categorical_features = ['job', 'marital', 'education', 'housing', 'loan', 'poutcome']\n",
    "numerical_features = (feature for feature in df.columns if feature not in categorical_features + ['y'])\n",
    "\n",
    "transform_pipeline = compose.Select(selected_categorical_features[0])\n",
    "for feature in selected_categorical_features[1:]:\n",
    "    transform_pipeline += compose.Select(feature)\n",
    "transform_pipeline |= preprocessing.OneHotEncoder()\n",
    "\n",
    "for feature in numerical_features:\n",
    "    transform_pipeline += compose.Select(feature)\n",
    "transform_pipeline |= preprocessing.MinMaxScaler()\n",
    "\n",
    "for idx, (x, y) in enumerate(bank_dataset):\n",
    "    print(f'Initial features: {x}\\n')\n",
    "    x = transform_pipeline.transform_one(x)\n",
    "    print(f'Transformed features: {x}\\n\\n')\n",
    "    if idx + 1 == 10:\n",
    "        break"
   ],
   "metadata": {
    "collapsed": false,
    "pycharm": {
     "name": "#%%\n"
    }
   }
  },
  {
   "cell_type": "markdown",
   "source": [
    "#### Predict with Adaptive Random Forest Classifier"
   ],
   "metadata": {
    "collapsed": false
   }
  },
  {
   "cell_type": "code",
   "execution_count": 206,
   "outputs": [
    {
     "name": "stdout",
     "output_type": "stream",
     "text": [
      "Index: 1000; Accuracy: 98.10%; WeightedF1: 97.16%\n",
      "Index: 2000; Accuracy: 97.90%; WeightedF1: 96.86%\n",
      "Index: 3000; Accuracy: 97.63%; WeightedF1: 96.46%\n",
      "Index: 4000; Accuracy: 97.22%; WeightedF1: 95.86%\n",
      "Index: 5000; Accuracy: 97.10%; WeightedF1: 95.67%\n",
      "Index: 6000; Accuracy: 97.02%; WeightedF1: 95.55%\n",
      "Index: 7000; Accuracy: 97.06%; WeightedF1: 95.61%\n",
      "Index: 8000; Accuracy: 96.87%; WeightedF1: 95.34%\n",
      "Index: 9000; Accuracy: 96.72%; WeightedF1: 95.12%\n",
      "Index: 10000; Accuracy: 96.67%; WeightedF1: 95.04%\n",
      "Index: 11000; Accuracy: 96.60%; WeightedF1: 94.94%\n",
      "Index: 12000; Accuracy: 96.51%; WeightedF1: 94.80%\n",
      "Index: 13000; Accuracy: 96.38%; WeightedF1: 94.62%\n",
      "Index: 14000; Accuracy: 96.19%; WeightedF1: 94.33%\n",
      "Index: 15000; Accuracy: 95.99%; WeightedF1: 94.04%\n",
      "Index: 16000; Accuracy: 95.75%; WeightedF1: 93.70%\n",
      "Index: 17000; Accuracy: 95.68%; WeightedF1: 93.61%\n",
      "Index: 18000; Accuracy: 95.59%; WeightedF1: 93.47%\n",
      "Index: 19000; Accuracy: 95.59%; WeightedF1: 93.47%\n",
      "Index: 20000; Accuracy: 95.43%; WeightedF1: 93.28%\n",
      "Index: 21000; Accuracy: 95.32%; WeightedF1: 93.17%\n",
      "Index: 22000; Accuracy: 95.33%; WeightedF1: 93.18%\n",
      "Index: 23000; Accuracy: 95.34%; WeightedF1: 93.20%\n",
      "Index: 24000; Accuracy: 95.41%; WeightedF1: 93.30%\n",
      "Index: 25000; Accuracy: 95.21%; WeightedF1: 93.02%\n",
      "Index: 26000; Accuracy: 95.23%; WeightedF1: 93.04%\n",
      "Index: 27000; Accuracy: 95.19%; WeightedF1: 92.99%\n",
      "Index: 28000; Accuracy: 94.76%; WeightedF1: 92.43%\n",
      "Index: 29000; Accuracy: 94.43%; WeightedF1: 91.93%\n",
      "Index: 30000; Accuracy: 94.29%; WeightedF1: 91.72%\n",
      "Index: 31000; Accuracy: 93.74%; WeightedF1: 91.14%\n",
      "Index: 32000; Accuracy: 93.73%; WeightedF1: 91.12%\n",
      "Index: 33000; Accuracy: 93.77%; WeightedF1: 91.17%\n",
      "Index: 34000; Accuracy: 93.73%; WeightedF1: 91.10%\n",
      "Index: 35000; Accuracy: 93.66%; WeightedF1: 90.99%\n",
      "Index: 36000; Accuracy: 93.49%; WeightedF1: 90.74%\n",
      "Index: 37000; Accuracy: 92.80%; WeightedF1: 89.87%\n",
      "Index: 38000; Accuracy: 92.11%; WeightedF1: 89.04%\n",
      "Index: 39000; Accuracy: 91.42%; WeightedF1: 88.47%\n",
      "Index: 40000; Accuracy: 90.78%; WeightedF1: 88.25%\n",
      "Index: 41000; Accuracy: 90.36%; WeightedF1: 88.18%\n",
      "\n",
      "\n",
      "\n",
      "Debug pipeline:\n",
      "0. Input\n",
      "--------\n",
      "age: 74 (int)\n",
      "campaign: 3 (int)\n",
      "cons.conf.idx: -50.80000 (float)\n",
      "cons.price.idx: 94.76700 (float)\n",
      "contact: cellular (str)\n",
      "day_of_week: fri (str)\n",
      "default: no (str)\n",
      "duration: 239 (int)\n",
      "education: professional.course (str)\n",
      "emp.var.rate: -1.10000 (float)\n",
      "euribor3m: 1.02800 (float)\n",
      "housing: yes (str)\n",
      "job: retired (str)\n",
      "loan: no (str)\n",
      "marital: married (str)\n",
      "month: nov (str)\n",
      "nr.employed: 4,963.60000 (float)\n",
      "pdays: 999 (int)\n",
      "poutcome: failure (str)\n",
      "previous: 1 (int)\n",
      "\n",
      "1. Transformer union\n",
      "--------------------\n",
      "    1.0 ['job'] + ['marital'] + ['education'] + ['housing'] + ['loan'] + ['poutcome'] | OneHotEncoder\n",
      "    -------------------------------------------------------------------------------------------------\n",
      "    education_basic.4y: 0 (int)\n",
      "    education_basic.6y: 0 (int)\n",
      "    education_basic.9y: 0 (int)\n",
      "    education_high.school: 0 (int)\n",
      "    education_illiterate: 0 (int)\n",
      "    education_professional.course: 1 (int)\n",
      "    education_university.degree: 0 (int)\n",
      "    education_unknown: 0 (int)\n",
      "    housing_no: 0 (int)\n",
      "    housing_unknown: 0 (int)\n",
      "    housing_yes: 1 (int)\n",
      "    job_admin.: 0 (int)\n",
      "    job_blue-collar: 0 (int)\n",
      "    job_entrepreneur: 0 (int)\n",
      "    job_housemaid: 0 (int)\n",
      "    job_management: 0 (int)\n",
      "    job_retired: 1 (int)\n",
      "    job_self-employed: 0 (int)\n",
      "    job_services: 0 (int)\n",
      "    job_student: 0 (int)\n",
      "    job_technician: 0 (int)\n",
      "    job_unemployed: 0 (int)\n",
      "    job_unknown: 0 (int)\n",
      "    loan_no: 1 (int)\n",
      "    loan_unknown: 0 (int)\n",
      "    loan_yes: 0 (int)\n",
      "    marital_divorced: 0 (int)\n",
      "    marital_married: 1 (int)\n",
      "    marital_single: 0 (int)\n",
      "    marital_unknown: 0 (int)\n",
      "    poutcome_failure: 1 (int)\n",
      "    poutcome_nonexistent: 0 (int)\n",
      "    poutcome_success: 0 (int)\n",
      "\n",
      "    1.1 Select\n",
      "    ----------\n",
      "    age: 74 (int)\n",
      "\n",
      "    1.2 Select1\n",
      "    -----------\n",
      "    duration: 239 (int)\n",
      "\n",
      "    1.3 Select2\n",
      "    -----------\n",
      "    campaign: 3 (int)\n",
      "\n",
      "    1.4 Select3\n",
      "    -----------\n",
      "    pdays: 999 (int)\n",
      "\n",
      "    1.5 Select4\n",
      "    -----------\n",
      "    previous: 1 (int)\n",
      "\n",
      "    1.6 Select5\n",
      "    -----------\n",
      "    emp.var.rate: -1.10000 (float)\n",
      "\n",
      "    1.7 Select6\n",
      "    -----------\n",
      "    cons.price.idx: 94.76700 (float)\n",
      "\n",
      "    1.8 Select7\n",
      "    -----------\n",
      "    cons.conf.idx: -50.80000 (float)\n",
      "\n",
      "    1.9 Select8\n",
      "    -----------\n",
      "    euribor3m: 1.02800 (float)\n",
      "\n",
      "    1.10 Select9\n",
      "    ------------\n",
      "    nr.employed: 4,963.60000 (float)\n",
      "\n",
      "age: 74 (int)\n",
      "campaign: 3 (int)\n",
      "cons.conf.idx: -50.80000 (float)\n",
      "cons.price.idx: 94.76700 (float)\n",
      "duration: 239 (int)\n",
      "education_basic.4y: 0 (int)\n",
      "education_basic.6y: 0 (int)\n",
      "education_basic.9y: 0 (int)\n",
      "education_high.school: 0 (int)\n",
      "education_illiterate: 0 (int)\n",
      "education_professional.course: 1 (int)\n",
      "education_university.degree: 0 (int)\n",
      "education_unknown: 0 (int)\n",
      "emp.var.rate: -1.10000 (float)\n",
      "euribor3m: 1.02800 (float)\n",
      "housing_no: 0 (int)\n",
      "housing_unknown: 0 (int)\n",
      "housing_yes: 1 (int)\n",
      "job_admin.: 0 (int)\n",
      "job_blue-collar: 0 (int)\n",
      "job_entrepreneur: 0 (int)\n",
      "job_housemaid: 0 (int)\n",
      "job_management: 0 (int)\n",
      "job_retired: 1 (int)\n",
      "job_self-employed: 0 (int)\n",
      "job_services: 0 (int)\n",
      "job_student: 0 (int)\n",
      "job_technician: 0 (int)\n",
      "job_unemployed: 0 (int)\n",
      "job_unknown: 0 (int)\n",
      "loan_no: 1 (int)\n",
      "loan_unknown: 0 (int)\n",
      "loan_yes: 0 (int)\n",
      "marital_divorced: 0 (int)\n",
      "marital_married: 1 (int)\n",
      "marital_single: 0 (int)\n",
      "marital_unknown: 0 (int)\n",
      "nr.employed: 4,963.60000 (float)\n",
      "pdays: 999 (int)\n",
      "poutcome_failure: 1 (int)\n",
      "poutcome_nonexistent: 0 (int)\n",
      "poutcome_success: 0 (int)\n",
      "previous: 1 (int)\n",
      "\n",
      "2. MinMaxScaler\n",
      "---------------\n",
      "age: 0.70370 (float)\n",
      "campaign: 0.03636 (float)\n",
      "cons.conf.idx: 0.00000 (float)\n",
      "cons.price.idx: 1.00000 (float)\n",
      "duration: 0.04860 (float)\n",
      "education_basic.4y: 0.00000 (float)\n",
      "education_basic.6y: 0.00000 (float)\n",
      "education_basic.9y: 0.00000 (float)\n",
      "education_high.school: 0.00000 (float)\n",
      "education_illiterate: 0.00000 (float)\n",
      "education_professional.course: 1.00000 (float)\n",
      "education_university.degree: 0.00000 (float)\n",
      "education_unknown: 0.00000 (float)\n",
      "emp.var.rate: 0.47917 (float)\n",
      "euribor3m: 0.08932 (float)\n",
      "housing_no: 0.00000 (float)\n",
      "housing_unknown: 0.00000 (float)\n",
      "housing_yes: 1.00000 (float)\n",
      "job_admin.: 0.00000 (float)\n",
      "job_blue-collar: 0.00000 (float)\n",
      "job_entrepreneur: 0.00000 (float)\n",
      "job_housemaid: 0.00000 (float)\n",
      "job_management: 0.00000 (float)\n",
      "job_retired: 1.00000 (float)\n",
      "job_self-employed: 0.00000 (float)\n",
      "job_services: 0.00000 (float)\n",
      "job_student: 0.00000 (float)\n",
      "job_technician: 0.00000 (float)\n",
      "job_unemployed: 0.00000 (float)\n",
      "job_unknown: 0.00000 (float)\n",
      "loan_no: 1.00000 (float)\n",
      "loan_unknown: 0.00000 (float)\n",
      "loan_yes: 0.00000 (float)\n",
      "marital_divorced: 0.00000 (float)\n",
      "marital_married: 1.00000 (float)\n",
      "marital_single: 0.00000 (float)\n",
      "marital_unknown: 0.00000 (float)\n",
      "nr.employed: 0.00000 (float)\n",
      "pdays: 1.00000 (float)\n",
      "poutcome_failure: 1.00000 (float)\n",
      "poutcome_nonexistent: 0.00000 (float)\n",
      "poutcome_success: 0.00000 (float)\n",
      "previous: 0.14286 (float)\n",
      "\n",
      "3. AdaptiveRandomForestClassifier\n",
      "---------------------------------\n",
      "\n",
      "0: 0.59812\n",
      "1: 0.40188\n",
      "\n",
      "\n",
      "Confusion matrix:\n",
      "     0        1      \n",
      "0   36,036     511  \n",
      "1    3,491   1,149  \n"
     ]
    },
    {
     "data": {
      "text/plain": "<Figure size 720x432 with 1 Axes>",
      "image/png": "[encoded data removed]"
     },
     "metadata": {},
     "output_type": "display_data"
    },
    {
     "data": {
      "text/plain": "<Figure size 720x432 with 1 Axes>",
      "image/png": "[encoded data removed]"
     },
     "metadata": {},
     "output_type": "display_data"
    },
    {
     "data": {
      "text/plain": "<Figure size 720x576 with 2 Axes>",
      "image/png": "[encoded data removed]"
     },
     "metadata": {},
     "output_type": "display_data"
    }
   ],
   "source": [
    "ARF_model = transform_pipeline | ensemble.AdaptiveRandomForestClassifier(n_models=20, seed=42, split_criterion='gini')\n",
    "evaluate_binary_model(bank_dataset, ARF_model)"
   ],
   "metadata": {
    "collapsed": false,
    "pycharm": {
     "name": "#%%\n"
    }
   }
  },
  {
   "cell_type": "markdown",
   "source": [
    "#### Predict with Streaming Random Patches ensemble classifier"
   ],
   "metadata": {
    "collapsed": false
   }
  },
  {
   "cell_type": "code",
   "execution_count": 219,
   "outputs": [
    {
     "name": "stdout",
     "output_type": "stream",
     "text": [
      "Index: 1000; Accuracy: 97.80%; WeightedF1: 97.41%\n",
      "Index: 2000; Accuracy: 97.40%; WeightedF1: 97.05%\n",
      "Index: 3000; Accuracy: 97.23%; WeightedF1: 96.72%\n",
      "Index: 4000; Accuracy: 96.90%; WeightedF1: 96.23%\n",
      "Index: 5000; Accuracy: 96.82%; WeightedF1: 96.20%\n",
      "Index: 6000; Accuracy: 96.78%; WeightedF1: 96.11%\n",
      "Index: 7000; Accuracy: 96.83%; WeightedF1: 96.16%\n",
      "Index: 8000; Accuracy: 96.69%; WeightedF1: 96.00%\n",
      "Index: 9000; Accuracy: 96.56%; WeightedF1: 95.83%\n",
      "Index: 10000; Accuracy: 96.49%; WeightedF1: 95.79%\n",
      "Index: 11000; Accuracy: 96.39%; WeightedF1: 95.73%\n",
      "Index: 12000; Accuracy: 96.37%; WeightedF1: 95.76%\n",
      "Index: 13000; Accuracy: 96.28%; WeightedF1: 95.65%\n",
      "Index: 14000; Accuracy: 96.18%; WeightedF1: 95.55%\n",
      "Index: 15000; Accuracy: 95.98%; WeightedF1: 95.37%\n",
      "Index: 16000; Accuracy: 95.74%; WeightedF1: 95.12%\n",
      "Index: 17000; Accuracy: 95.66%; WeightedF1: 95.09%\n",
      "Index: 18000; Accuracy: 95.60%; WeightedF1: 95.02%\n",
      "Index: 19000; Accuracy: 95.61%; WeightedF1: 95.04%\n",
      "Index: 20000; Accuracy: 95.51%; WeightedF1: 94.94%\n",
      "Index: 21000; Accuracy: 95.42%; WeightedF1: 94.85%\n",
      "Index: 22000; Accuracy: 95.43%; WeightedF1: 94.88%\n",
      "Index: 23000; Accuracy: 95.46%; WeightedF1: 94.91%\n",
      "Index: 24000; Accuracy: 95.54%; WeightedF1: 95.00%\n",
      "Index: 25000; Accuracy: 95.34%; WeightedF1: 94.83%\n",
      "Index: 26000; Accuracy: 95.36%; WeightedF1: 94.84%\n",
      "Index: 27000; Accuracy: 95.30%; WeightedF1: 94.78%\n",
      "Index: 28000; Accuracy: 94.83%; WeightedF1: 94.23%\n",
      "Index: 29000; Accuracy: 94.42%; WeightedF1: 93.72%\n",
      "Index: 30000; Accuracy: 94.25%; WeightedF1: 93.48%\n",
      "Index: 31000; Accuracy: 93.56%; WeightedF1: 92.68%\n",
      "Index: 32000; Accuracy: 93.55%; WeightedF1: 92.65%\n",
      "Index: 33000; Accuracy: 93.58%; WeightedF1: 92.66%\n",
      "Index: 34000; Accuracy: 93.55%; WeightedF1: 92.58%\n",
      "Index: 35000; Accuracy: 93.47%; WeightedF1: 92.45%\n",
      "Index: 36000; Accuracy: 93.29%; WeightedF1: 92.16%\n",
      "Index: 37000; Accuracy: 92.53%; WeightedF1: 91.32%\n",
      "Index: 38000; Accuracy: 91.83%; WeightedF1: 90.57%\n",
      "Index: 39000; Accuracy: 91.06%; WeightedF1: 89.80%\n",
      "Index: 40000; Accuracy: 90.37%; WeightedF1: 89.30%\n",
      "Index: 41000; Accuracy: 89.87%; WeightedF1: 88.89%\n",
      "\n",
      "\n",
      "\n",
      "Debug pipeline:\n",
      "0. Input\n",
      "--------\n",
      "age: 74 (int)\n",
      "campaign: 3 (int)\n",
      "cons.conf.idx: -50.80000 (float)\n",
      "cons.price.idx: 94.76700 (float)\n",
      "contact: cellular (str)\n",
      "day_of_week: fri (str)\n",
      "default: no (str)\n",
      "duration: 239 (int)\n",
      "education: professional.course (str)\n",
      "emp.var.rate: -1.10000 (float)\n",
      "euribor3m: 1.02800 (float)\n",
      "housing: yes (str)\n",
      "job: retired (str)\n",
      "loan: no (str)\n",
      "marital: married (str)\n",
      "month: nov (str)\n",
      "nr.employed: 4,963.60000 (float)\n",
      "pdays: 999 (int)\n",
      "poutcome: failure (str)\n",
      "previous: 1 (int)\n",
      "\n",
      "1. Transformer union\n",
      "--------------------\n",
      "    1.0 ['job'] + ['marital'] + ['education'] + ['housing'] + ['loan'] + ['poutcome'] | OneHotEncoder\n",
      "    -------------------------------------------------------------------------------------------------\n",
      "    education_basic.4y: 0 (int)\n",
      "    education_basic.6y: 0 (int)\n",
      "    education_basic.9y: 0 (int)\n",
      "    education_high.school: 0 (int)\n",
      "    education_illiterate: 0 (int)\n",
      "    education_professional.course: 1 (int)\n",
      "    education_university.degree: 0 (int)\n",
      "    education_unknown: 0 (int)\n",
      "    housing_no: 0 (int)\n",
      "    housing_unknown: 0 (int)\n",
      "    housing_yes: 1 (int)\n",
      "    job_admin.: 0 (int)\n",
      "    job_blue-collar: 0 (int)\n",
      "    job_entrepreneur: 0 (int)\n",
      "    job_housemaid: 0 (int)\n",
      "    job_management: 0 (int)\n",
      "    job_retired: 1 (int)\n",
      "    job_self-employed: 0 (int)\n",
      "    job_services: 0 (int)\n",
      "    job_student: 0 (int)\n",
      "    job_technician: 0 (int)\n",
      "    job_unemployed: 0 (int)\n",
      "    job_unknown: 0 (int)\n",
      "    loan_no: 1 (int)\n",
      "    loan_unknown: 0 (int)\n",
      "    loan_yes: 0 (int)\n",
      "    marital_divorced: 0 (int)\n",
      "    marital_married: 1 (int)\n",
      "    marital_single: 0 (int)\n",
      "    marital_unknown: 0 (int)\n",
      "    poutcome_failure: 1 (int)\n",
      "    poutcome_nonexistent: 0 (int)\n",
      "    poutcome_success: 0 (int)\n",
      "\n",
      "    1.1 Select\n",
      "    ----------\n",
      "    age: 74 (int)\n",
      "\n",
      "    1.2 Select1\n",
      "    -----------\n",
      "    duration: 239 (int)\n",
      "\n",
      "    1.3 Select2\n",
      "    -----------\n",
      "    campaign: 3 (int)\n",
      "\n",
      "    1.4 Select3\n",
      "    -----------\n",
      "    pdays: 999 (int)\n",
      "\n",
      "    1.5 Select4\n",
      "    -----------\n",
      "    previous: 1 (int)\n",
      "\n",
      "    1.6 Select5\n",
      "    -----------\n",
      "    emp.var.rate: -1.10000 (float)\n",
      "\n",
      "    1.7 Select6\n",
      "    -----------\n",
      "    cons.price.idx: 94.76700 (float)\n",
      "\n",
      "    1.8 Select7\n",
      "    -----------\n",
      "    cons.conf.idx: -50.80000 (float)\n",
      "\n",
      "    1.9 Select8\n",
      "    -----------\n",
      "    euribor3m: 1.02800 (float)\n",
      "\n",
      "    1.10 Select9\n",
      "    ------------\n",
      "    nr.employed: 4,963.60000 (float)\n",
      "\n",
      "age: 74 (int)\n",
      "campaign: 3 (int)\n",
      "cons.conf.idx: -50.80000 (float)\n",
      "cons.price.idx: 94.76700 (float)\n",
      "duration: 239 (int)\n",
      "education_basic.4y: 0 (int)\n",
      "education_basic.6y: 0 (int)\n",
      "education_basic.9y: 0 (int)\n",
      "education_high.school: 0 (int)\n",
      "education_illiterate: 0 (int)\n",
      "education_professional.course: 1 (int)\n",
      "education_university.degree: 0 (int)\n",
      "education_unknown: 0 (int)\n",
      "emp.var.rate: -1.10000 (float)\n",
      "euribor3m: 1.02800 (float)\n",
      "housing_no: 0 (int)\n",
      "housing_unknown: 0 (int)\n",
      "housing_yes: 1 (int)\n",
      "job_admin.: 0 (int)\n",
      "job_blue-collar: 0 (int)\n",
      "job_entrepreneur: 0 (int)\n",
      "job_housemaid: 0 (int)\n",
      "job_management: 0 (int)\n",
      "job_retired: 1 (int)\n",
      "job_self-employed: 0 (int)\n",
      "job_services: 0 (int)\n",
      "job_student: 0 (int)\n",
      "job_technician: 0 (int)\n",
      "job_unemployed: 0 (int)\n",
      "job_unknown: 0 (int)\n",
      "loan_no: 1 (int)\n",
      "loan_unknown: 0 (int)\n",
      "loan_yes: 0 (int)\n",
      "marital_divorced: 0 (int)\n",
      "marital_married: 1 (int)\n",
      "marital_single: 0 (int)\n",
      "marital_unknown: 0 (int)\n",
      "nr.employed: 4,963.60000 (float)\n",
      "pdays: 999 (int)\n",
      "poutcome_failure: 1 (int)\n",
      "poutcome_nonexistent: 0 (int)\n",
      "poutcome_success: 0 (int)\n",
      "previous: 1 (int)\n",
      "\n",
      "2. MinMaxScaler\n",
      "---------------\n",
      "age: 0.70370 (float)\n",
      "campaign: 0.03636 (float)\n",
      "cons.conf.idx: 0.00000 (float)\n",
      "cons.price.idx: 1.00000 (float)\n",
      "duration: 0.04860 (float)\n",
      "education_basic.4y: 0.00000 (float)\n",
      "education_basic.6y: 0.00000 (float)\n",
      "education_basic.9y: 0.00000 (float)\n",
      "education_high.school: 0.00000 (float)\n",
      "education_illiterate: 0.00000 (float)\n",
      "education_professional.course: 1.00000 (float)\n",
      "education_university.degree: 0.00000 (float)\n",
      "education_unknown: 0.00000 (float)\n",
      "emp.var.rate: 0.47917 (float)\n",
      "euribor3m: 0.08932 (float)\n",
      "housing_no: 0.00000 (float)\n",
      "housing_unknown: 0.00000 (float)\n",
      "housing_yes: 1.00000 (float)\n",
      "job_admin.: 0.00000 (float)\n",
      "job_blue-collar: 0.00000 (float)\n",
      "job_entrepreneur: 0.00000 (float)\n",
      "job_housemaid: 0.00000 (float)\n",
      "job_management: 0.00000 (float)\n",
      "job_retired: 1.00000 (float)\n",
      "job_self-employed: 0.00000 (float)\n",
      "job_services: 0.00000 (float)\n",
      "job_student: 0.00000 (float)\n",
      "job_technician: 0.00000 (float)\n",
      "job_unemployed: 0.00000 (float)\n",
      "job_unknown: 0.00000 (float)\n",
      "loan_no: 1.00000 (float)\n",
      "loan_unknown: 0.00000 (float)\n",
      "loan_yes: 0.00000 (float)\n",
      "marital_divorced: 0.00000 (float)\n",
      "marital_married: 1.00000 (float)\n",
      "marital_single: 0.00000 (float)\n",
      "marital_unknown: 0.00000 (float)\n",
      "nr.employed: 0.00000 (float)\n",
      "pdays: 1.00000 (float)\n",
      "poutcome_failure: 1.00000 (float)\n",
      "poutcome_nonexistent: 0.00000 (float)\n",
      "poutcome_success: 0.00000 (float)\n",
      "previous: 0.14286 (float)\n",
      "\n",
      "3. SRPClassifier(HoeffdingTreeClassifier)\n",
      "-----------------------------------------\n",
      "\n",
      "0: 0.49587\n",
      "1: 0.50413\n",
      "\n",
      "\n",
      "Confusion matrix:\n",
      "     0        1      \n",
      "0   35,240   1,307  \n",
      "1    2,909   1,731  \n"
     ]
    },
    {
     "data": {
      "text/plain": "<Figure size 720x432 with 1 Axes>",
      "image/png": "[encoded data removed]"
     },
     "metadata": {},
     "output_type": "display_data"
    },
    {
     "data": {
      "text/plain": "<Figure size 720x432 with 1 Axes>",
      "image/png": "[encoded data removed]"
     },
     "metadata": {},
     "output_type": "display_data"
    },
    {
     "data": {
      "text/plain": "<Figure size 720x576 with 2 Axes>",
      "image/png": "[encoded data removed]"
     },
     "metadata": {},
     "output_type": "display_data"
    }
   ],
   "source": [
    "base_model = tree.HoeffdingTreeClassifier(\n",
    "     grace_period=50, delta=0.01\n",
    ")\n",
    "SRP_model_obj = ensemble.SRPClassifier(\n",
    "     model=base_model, n_models=3, seed=42\n",
    ")\n",
    "SRP_model = transform_pipeline | SRP_model_obj\n",
    "evaluate_binary_model(bank_dataset, SRP_model)"
   ],
   "metadata": {
    "collapsed": false,
    "pycharm": {
     "name": "#%%\n"
    }
   }
  },
  {
   "cell_type": "code",
   "execution_count": null,
   "outputs": [],
   "source": [],
   "metadata": {
    "collapsed": false,
    "pycharm": {
     "name": "#%%\n"
    }
   }
  }
 ],
 "metadata": {
  "kernelspec": {
   "display_name": "Python 3",
   "language": "python",
   "name": "python3"
  },
  "language_info": {
   "codemirror_mode": {
    "name": "ipython",
    "version": 2
   },
   "file_extension": ".py",
   "mimetype": "text/x-python",
   "name": "python",
   "nbconvert_exporter": "python",
   "pygments_lexer": "ipython2",
   "version": "2.7.6"
  }
 },
 "nbformat": 4,
 "nbformat_minor": 0
}