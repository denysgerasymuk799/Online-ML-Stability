{
 "cells": [
  {
   "cell_type": "code",
   "execution_count": 1,
   "outputs": [],
   "source": [
    "%matplotlib inline\n",
    "%load_ext autoreload\n",
    "%autoreload 2"
   ],
   "metadata": {
    "collapsed": false,
    "pycharm": {
     "name": "#%%\n"
    }
   }
  },
  {
   "cell_type": "code",
   "execution_count": 2,
   "outputs": [],
   "source": [
    "import collections\n",
    "from river import datasets"
   ],
   "metadata": {
    "collapsed": false,
    "pycharm": {
     "name": "#%%\n"
    }
   }
  },
  {
   "cell_type": "code",
   "execution_count": 3,
   "metadata": {
    "pycharm": {
     "name": "#%%\n"
    }
   },
   "outputs": [
    {
     "data": {
      "text/plain": "Phishing websites.\n\nThis dataset contains features from web pages that are classified as phishing or not.\n\n    Name  Phishing                                                                                                                                              \n    Task  Binary classification                                                                                                                                 \n Samples  1,250                                                                                                                                                 \nFeatures  9                                                                                                                                                     \n  Sparse  False                                                                                                                                                 \n    Path  /home/denys_herasymuk/UCU/Studying_abroad/NYU_Internship/Code/RAI-summer-stability/RAI_venv/lib/python3.8/site-packages/river/datasets/phishing.csv.gz"
     },
     "execution_count": 3,
     "metadata": {},
     "output_type": "execute_result"
    }
   ],
   "source": [
    "dataset = datasets.Phishing()\n",
    "dataset"
   ]
  },
  {
   "cell_type": "markdown",
   "metadata": {
    "pycharm": {
     "name": "#%% md\n"
    }
   },
   "source": [
    "Let's take a look at the first sample."
   ]
  },
  {
   "cell_type": "code",
   "execution_count": 4,
   "metadata": {
    "tags": [],
    "pycharm": {
     "name": "#%%\n"
    }
   },
   "outputs": [
    {
     "data": {
      "text/plain": "{'empty_server_form_handler': 0.0,\n 'popup_window': 0.0,\n 'https': 0.0,\n 'request_from_other_domain': 0.0,\n 'anchor_from_other_domain': 0.0,\n 'is_popular': 0.5,\n 'long_url': 1.0,\n 'age_of_domain': 1,\n 'ip_in_url': 1}"
     },
     "execution_count": 4,
     "metadata": {},
     "output_type": "execute_result"
    }
   ],
   "source": [
    "x, y = next(iter(dataset))\n",
    "x"
   ]
  },
  {
   "cell_type": "code",
   "execution_count": 5,
   "metadata": {
    "pycharm": {
     "name": "#%%\n"
    }
   },
   "outputs": [
    {
     "data": {
      "text/plain": "True"
     },
     "execution_count": 5,
     "metadata": {},
     "output_type": "execute_result"
    }
   ],
   "source": [
    "y"
   ]
  },
  {
   "cell_type": "code",
   "execution_count": 6,
   "outputs": [
    {
     "name": "stdout",
     "output_type": "stream",
     "text": [
      "True: 548 (43.84000%)\n",
      "False: 702 (56.16000%)\n"
     ]
    }
   ],
   "source": [
    "counts = collections.Counter(y for _, y in dataset)\n",
    "\n",
    "for c, count in counts.items():\n",
    "    print(f'{c}: {count} ({count / sum(counts.values()):.5%})')"
   ],
   "metadata": {
    "collapsed": false,
    "pycharm": {
     "name": "#%%\n"
    }
   }
  },
  {
   "cell_type": "code",
   "execution_count": 20,
   "outputs": [],
   "source": [
    "from river import tree\n",
    "from source.stability_analyzer import StabilityAnalyzer\n",
    "\n",
    "\n",
    "# base_model = linear_model.LogisticRegression()\n",
    "base_model = tree.HoeffdingTreeClassifier(\n",
    "    grace_period=50, delta=0.01\n",
    ")\n",
    "stability_analyzer = StabilityAnalyzer(base_model)"
   ],
   "metadata": {
    "collapsed": false,
    "pycharm": {
     "name": "#%%\n"
    }
   }
  },
  {
   "cell_type": "code",
   "execution_count": 21,
   "outputs": [
    {
     "name": "stdout",
     "output_type": "stream",
     "text": [
      "y_true: 1, y_pred: None\n",
      "y_true: 1, y_pred: None\n",
      "y_true: 1, y_pred: None\n",
      "y_true: 1, y_pred: None\n",
      "y_true: 1, y_pred: None\n",
      "y_true: 1, y_pred: None\n",
      "y_true: 1, y_pred: None\n",
      "y_true: 1, y_pred: None\n",
      "y_true: 1, y_pred: None\n",
      "y_true: 1, y_pred: None\n",
      "y_true: 1, y_pred: None\n",
      "y_true: 1, y_pred: None\n",
      "y_true: 1, y_pred: None\n",
      "y_true: 1, y_pred: None\n",
      "y_true: 1, y_pred: None\n",
      "y_true: 1, y_pred: None\n",
      "y_true: 1, y_pred: None\n",
      "y_true: 1, y_pred: None\n",
      "y_true: 1, y_pred: None\n",
      "y_true: 1, y_pred: None\n",
      "results:  Empty DataFrame\n",
      "Columns: []\n",
      "Index: [0, 1, 2, 3, 4, 5, 6, 7, 8, 9]\n"
     ]
    },
    {
     "ename": "IndexError",
     "evalue": "index 0 is out of bounds for axis 0 with size 0",
     "output_type": "error",
     "traceback": [
      "\u001B[0;31m---------------------------------------------------------------------------\u001B[0m",
      "\u001B[0;31mIndexError\u001B[0m                                Traceback (most recent call last)",
      "Input \u001B[0;32mIn [21]\u001B[0m, in \u001B[0;36m<cell line: 8>\u001B[0;34m()\u001B[0m\n\u001B[1;32m      8\u001B[0m \u001B[38;5;28;01mfor\u001B[39;00m idx, (x, y_true) \u001B[38;5;129;01min\u001B[39;00m \u001B[38;5;28menumerate\u001B[39m(dataset):\n\u001B[1;32m      9\u001B[0m     y_true \u001B[38;5;241m=\u001B[39m label_mapping[y_true]\n\u001B[0;32m---> 10\u001B[0m     \u001B[43mstability_analyzer\u001B[49m\u001B[38;5;241;43m.\u001B[39;49m\u001B[43mmeasure_metrics\u001B[49m\u001B[43m(\u001B[49m\u001B[43mx\u001B[49m\u001B[43m,\u001B[49m\u001B[43m \u001B[49m\u001B[43my_true\u001B[49m\u001B[43m)\u001B[49m\n\u001B[1;32m     12\u001B[0m     \u001B[38;5;28;01mif\u001B[39;00m (idx \u001B[38;5;241m+\u001B[39m \u001B[38;5;241m1\u001B[39m) \u001B[38;5;241m%\u001B[39m measure_every \u001B[38;5;241m==\u001B[39m \u001B[38;5;241m0\u001B[39m:\n\u001B[1;32m     13\u001B[0m         stability_analyzer\u001B[38;5;241m.\u001B[39mprint_metrics()\n",
      "File \u001B[0;32m~/UCU/4course_2term/Bachelor_Thesis/Code/Online-ML-Stability/source/stability_analyzer.py:51\u001B[0m, in \u001B[0;36mStabilityAnalyzer.measure_metrics\u001B[0;34m(self, x, y_true, make_plots)\u001B[0m\n\u001B[1;32m     48\u001B[0m     \u001B[38;5;28;01mreturn\u001B[39;00m\n\u001B[1;32m     50\u001B[0m \u001B[38;5;66;03m# Count metrics\u001B[39;00m\n\u001B[0;32m---> 51\u001B[0m y_preds, results, means, stds, iqr, accuracy \u001B[38;5;241m=\u001B[39m \u001B[43mcount_prediction_stats\u001B[49m\u001B[43m(\u001B[49m\u001B[38;5;28;43mself\u001B[39;49m\u001B[38;5;241;43m.\u001B[39;49m\u001B[43my_true_lst\u001B[49m\u001B[43m,\u001B[49m\n\u001B[1;32m     52\u001B[0m \u001B[43m                                                                      \u001B[49m\u001B[43muq_results\u001B[49m\u001B[38;5;241;43m=\u001B[39;49m\u001B[38;5;28;43mself\u001B[39;49m\u001B[38;5;241;43m.\u001B[39;49m\u001B[43mmodel_predictions\u001B[49m\u001B[43m)\u001B[49m\n\u001B[1;32m     53\u001B[0m per_sample_accuracy, label_stability \u001B[38;5;241m=\u001B[39m get_per_sample_accuracy(\u001B[38;5;28mself\u001B[39m\u001B[38;5;241m.\u001B[39my_true_lst, results)\n\u001B[1;32m     55\u001B[0m \u001B[38;5;66;03m# Display plots if needed\u001B[39;00m\n",
      "File \u001B[0;32m~/UCU/4course_2term/Bachelor_Thesis/Code/Online-ML-Stability/source/utils/stability_analysis.py:30\u001B[0m, in \u001B[0;36mcount_prediction_stats\u001B[0;34m(y_test, uq_results)\u001B[0m\n\u001B[1;32m     27\u001B[0m iqr \u001B[38;5;241m=\u001B[39m sp\u001B[38;5;241m.\u001B[39mstats\u001B[38;5;241m.\u001B[39miqr(results, axis\u001B[38;5;241m=\u001B[39m\u001B[38;5;241m0\u001B[39m)\n\u001B[1;32m     29\u001B[0m y_preds \u001B[38;5;241m=\u001B[39m np\u001B[38;5;241m.\u001B[39marray([\u001B[38;5;28mint\u001B[39m(x\u001B[38;5;241m<\u001B[39m\u001B[38;5;241m0.5\u001B[39m) \u001B[38;5;28;01mfor\u001B[39;00m x \u001B[38;5;129;01min\u001B[39;00m results\u001B[38;5;241m.\u001B[39mmean()\u001B[38;5;241m.\u001B[39mvalues])\n\u001B[0;32m---> 30\u001B[0m accuracy \u001B[38;5;241m=\u001B[39m np\u001B[38;5;241m.\u001B[39mmean(np\u001B[38;5;241m.\u001B[39marray([y_preds[i] \u001B[38;5;241m==\u001B[39m \u001B[38;5;28mint\u001B[39m(y_test[i]) \u001B[38;5;28;01mfor\u001B[39;00m i \u001B[38;5;129;01min\u001B[39;00m \u001B[38;5;28mrange\u001B[39m(\u001B[38;5;28mlen\u001B[39m(y_test))]))\n\u001B[1;32m     32\u001B[0m \u001B[38;5;28;01mreturn\u001B[39;00m y_preds, results, means, stds, iqr, accuracy\n",
      "File \u001B[0;32m~/UCU/4course_2term/Bachelor_Thesis/Code/Online-ML-Stability/source/utils/stability_analysis.py:30\u001B[0m, in \u001B[0;36m<listcomp>\u001B[0;34m(.0)\u001B[0m\n\u001B[1;32m     27\u001B[0m iqr \u001B[38;5;241m=\u001B[39m sp\u001B[38;5;241m.\u001B[39mstats\u001B[38;5;241m.\u001B[39miqr(results, axis\u001B[38;5;241m=\u001B[39m\u001B[38;5;241m0\u001B[39m)\n\u001B[1;32m     29\u001B[0m y_preds \u001B[38;5;241m=\u001B[39m np\u001B[38;5;241m.\u001B[39marray([\u001B[38;5;28mint\u001B[39m(x\u001B[38;5;241m<\u001B[39m\u001B[38;5;241m0.5\u001B[39m) \u001B[38;5;28;01mfor\u001B[39;00m x \u001B[38;5;129;01min\u001B[39;00m results\u001B[38;5;241m.\u001B[39mmean()\u001B[38;5;241m.\u001B[39mvalues])\n\u001B[0;32m---> 30\u001B[0m accuracy \u001B[38;5;241m=\u001B[39m np\u001B[38;5;241m.\u001B[39mmean(np\u001B[38;5;241m.\u001B[39marray([\u001B[43my_preds\u001B[49m\u001B[43m[\u001B[49m\u001B[43mi\u001B[49m\u001B[43m]\u001B[49m \u001B[38;5;241m==\u001B[39m \u001B[38;5;28mint\u001B[39m(y_test[i]) \u001B[38;5;28;01mfor\u001B[39;00m i \u001B[38;5;129;01min\u001B[39;00m \u001B[38;5;28mrange\u001B[39m(\u001B[38;5;28mlen\u001B[39m(y_test))]))\n\u001B[1;32m     32\u001B[0m \u001B[38;5;28;01mreturn\u001B[39;00m y_preds, results, means, stds, iqr, accuracy\n",
      "\u001B[0;31mIndexError\u001B[0m: index 0 is out of bounds for axis 0 with size 0"
     ]
    }
   ],
   "source": [
    "dataset_limit = None\n",
    "measure_every = 100\n",
    "label_mapping = {\n",
    "    False: 0,\n",
    "    True: 1,\n",
    "}\n",
    "\n",
    "for idx, (x, y_true) in enumerate(dataset):\n",
    "    y_true = label_mapping[y_true]\n",
    "    stability_analyzer.measure_metrics(x, y_true)\n",
    "\n",
    "    if (idx + 1) % measure_every == 0:\n",
    "        stability_analyzer.print_metrics()\n",
    "\n",
    "    # Shrink the dataset if needed\n",
    "    if dataset_limit is not None and (idx + 1) == dataset_limit:\n",
    "        break"
   ],
   "metadata": {
    "collapsed": false,
    "pycharm": {
     "name": "#%%\n"
    }
   }
  },
  {
   "cell_type": "code",
   "execution_count": null,
   "outputs": [],
   "source": [],
   "metadata": {
    "collapsed": false,
    "pycharm": {
     "name": "#%%\n"
    }
   }
  }
 ],
 "metadata": {
  "kernelspec": {
   "display_name": "Python 3.9.12 ('river')",
   "language": "python",
   "name": "python3"
  },
  "language_info": {
   "codemirror_mode": {
    "name": "ipython",
    "version": 3
   },
   "file_extension": ".py",
   "mimetype": "text/x-python",
   "name": "python",
   "nbconvert_exporter": "python",
   "pygments_lexer": "ipython3",
   "version": "3.9.12"
  },
  "vscode": {
   "interpreter": {
    "hash": "e6e87bad9c8c768904c061eafcb4f6739260ff8bb57f302c215ab258ded773dc"
   }
  }
 },
 "nbformat": 4,
 "nbformat_minor": 4
}